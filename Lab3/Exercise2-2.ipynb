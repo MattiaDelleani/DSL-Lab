{
 "cells": [
  {
   "cell_type": "code",
   "execution_count": 1,
   "metadata": {},
   "outputs": [],
   "source": [
    "import json\n",
    "from collections import defaultdict\n",
    "\n",
    "with open('dataset/modified_coco.json') as f:\n",
    "    \n",
    "    obj = json.load(f)\n",
    "\n",
    "    "
   ]
  },
  {
   "cell_type": "code",
   "execution_count": 2,
   "metadata": {},
   "outputs": [],
   "source": [
    "#try with dataset as a list of list\n",
    "dataset = [ ['a','b'],\n",
    "            ['b','c', 'd'],\n",
    "            ['a','c','d','e'],\n",
    "            ['a','d','e'],\n",
    "            ['a','b','c'],\n",
    "            ['a','b','c','d'],\n",
    "            ['b','c'],\n",
    "            ['a','b','c'],\n",
    "            ['a','b','d'],\n",
    "            ['b','c','e']\n",
    "          ]"
   ]
  },
  {
   "cell_type": "code",
   "execution_count": 3,
   "metadata": {},
   "outputs": [
    {
     "data": {
      "text/plain": [
       "{'a', 'b', 'c', 'd', 'e'}"
      ]
     },
     "execution_count": 3,
     "metadata": {},
     "output_type": "execute_result"
    }
   ],
   "source": [
    "items = []\n",
    "\n",
    "for row in dataset:\n",
    "    for item in row:\n",
    "        items.append(item)\n",
    "    \n",
    "starting_items = set(items)\n",
    "starting_items"
   ]
  },
  {
   "cell_type": "code",
   "execution_count": 18,
   "metadata": {},
   "outputs": [],
   "source": [
    "def calculate_support(dataset, itemset):\n",
    "    dictionary = defaultdict(lambda:0)\n",
    "    \n",
    "    for subset in dataset:\n",
    "        for item in subset:\n",
    "            dictionary[item] +=1\n",
    "    \n",
    "    return dictionary"
   ]
  },
  {
   "cell_type": "code",
   "execution_count": 24,
   "metadata": {},
   "outputs": [],
   "source": [
    "freq = dict(calculate_support(dataset,starting_items))"
   ]
  },
  {
   "cell_type": "code",
   "execution_count": 25,
   "metadata": {},
   "outputs": [
    {
     "name": "stdout",
     "output_type": "stream",
     "text": [
      "True\n"
     ]
    }
   ],
   "source": [
    "if 'a' in list(starting_items):\n",
    "    print('True')\n",
    "else: \n",
    "    print(False)"
   ]
  },
  {
   "cell_type": "code",
   "execution_count": 26,
   "metadata": {},
   "outputs": [
    {
     "data": {
      "text/plain": [
       "{'a': 7, 'b': 8, 'c': 7, 'd': 5, 'e': 3}"
      ]
     },
     "execution_count": 26,
     "metadata": {},
     "output_type": "execute_result"
    }
   ],
   "source": [
    "#subset_dict['ab'] = 5\n",
    "#subset_dict['cd'] = 5\n",
    "subset_dict"
   ]
  },
  {
   "cell_type": "code",
   "execution_count": 27,
   "metadata": {},
   "outputs": [
    {
     "data": {
      "text/plain": [
       "['a', 'b', 'c', 'd', 'e']"
      ]
     },
     "execution_count": 27,
     "metadata": {},
     "output_type": "execute_result"
    }
   ],
   "source": [
    "sorted(subset_dict.keys())"
   ]
  },
  {
   "cell_type": "code",
   "execution_count": 28,
   "metadata": {},
   "outputs": [
    {
     "ename": "SyntaxError",
     "evalue": "invalid syntax (<ipython-input-28-9fb68e437079>, line 9)",
     "output_type": "error",
     "traceback": [
      "\u001b[1;36m  File \u001b[1;32m\"<ipython-input-28-9fb68e437079>\"\u001b[1;36m, line \u001b[1;32m9\u001b[0m\n\u001b[1;33m    subset.append(L[i[:-1] + ])\u001b[0m\n\u001b[1;37m                             ^\u001b[0m\n\u001b[1;31mSyntaxError\u001b[0m\u001b[1;31m:\u001b[0m invalid syntax\n"
     ]
    }
   ],
   "source": [
    "def combinations(L):\n",
    "    subset = []\n",
    "    #get the last subset with k-1 items\n",
    "    for i in len(L):\n",
    "        for j in len(L):\n",
    "            \n",
    "            if L[i][:-1] == L[j][:-1]:\n",
    "                \n",
    "                subset.append(L[i[:-1] + ])\n",
    "    \n",
    "    return (future_subset)\n",
    "    \n",
    "    "
   ]
  },
  {
   "cell_type": "code",
   "execution_count": 29,
   "metadata": {},
   "outputs": [
    {
     "ename": "NameError",
     "evalue": "name 'combinations' is not defined",
     "output_type": "error",
     "traceback": [
      "\u001b[1;31m---------------------------------------------------------------------------\u001b[0m",
      "\u001b[1;31mNameError\u001b[0m                                 Traceback (most recent call last)",
      "\u001b[1;32m<ipython-input-29-3d1e04e240c3>\u001b[0m in \u001b[0;36m<module>\u001b[1;34m\u001b[0m\n\u001b[1;32m----> 1\u001b[1;33m \u001b[0mtest\u001b[0m \u001b[1;33m=\u001b[0m \u001b[0mcombinations\u001b[0m\u001b[1;33m(\u001b[0m\u001b[0msubset_dict\u001b[0m\u001b[1;33m,\u001b[0m\u001b[1;36m0\u001b[0m\u001b[1;33m,\u001b[0m \u001b[0mlen\u001b[0m\u001b[1;33m(\u001b[0m\u001b[0mstarting_items\u001b[0m\u001b[1;33m)\u001b[0m\u001b[1;33m)\u001b[0m\u001b[1;33m\u001b[0m\u001b[1;33m\u001b[0m\u001b[0m\n\u001b[0m\u001b[0;32m      2\u001b[0m \u001b[0mprint\u001b[0m\u001b[1;33m(\u001b[0m\u001b[1;33m(\u001b[0m\u001b[0mtest\u001b[0m\u001b[1;33m)\u001b[0m\u001b[1;33m)\u001b[0m\u001b[1;33m\u001b[0m\u001b[1;33m\u001b[0m\u001b[0m\n",
      "\u001b[1;31mNameError\u001b[0m: name 'combinations' is not defined"
     ]
    }
   ],
   "source": [
    "test = combinations(subset_dict,0, len(starting_items))\n",
    "print((test))"
   ]
  },
  {
   "cell_type": "code",
   "execution_count": 30,
   "metadata": {},
   "outputs": [
    {
     "ename": "NameError",
     "evalue": "name 'combinations' is not defined",
     "output_type": "error",
     "traceback": [
      "\u001b[1;31m---------------------------------------------------------------------------\u001b[0m",
      "\u001b[1;31mNameError\u001b[0m                                 Traceback (most recent call last)",
      "\u001b[1;32m<ipython-input-30-789996a97ed5>\u001b[0m in \u001b[0;36m<module>\u001b[1;34m\u001b[0m\n\u001b[1;32m----> 1\u001b[1;33m \u001b[0mcombinations\u001b[0m\u001b[1;33m(\u001b[0m\u001b[0mtest\u001b[0m\u001b[1;33m,\u001b[0m\u001b[1;36m1\u001b[0m\u001b[1;33m,\u001b[0m \u001b[0mlen\u001b[0m\u001b[1;33m(\u001b[0m\u001b[0mstarting_items\u001b[0m\u001b[1;33m)\u001b[0m\u001b[1;33m)\u001b[0m\u001b[1;33m\u001b[0m\u001b[1;33m\u001b[0m\u001b[0m\n\u001b[0m",
      "\u001b[1;31mNameError\u001b[0m: name 'combinations' is not defined"
     ]
    }
   ],
   "source": [
    "combinations(test,1, len(starting_items))"
   ]
  },
  {
   "cell_type": "code",
   "execution_count": 31,
   "metadata": {},
   "outputs": [
    {
     "data": {
      "text/plain": [
       "{('a',): 7, ('b',): 8, ('c',): 7, ('d',): 5, ('e',): 3}"
      ]
     },
     "execution_count": 31,
     "metadata": {},
     "output_type": "execute_result"
    }
   ],
   "source": [
    "L = []\n",
    "L.append({ (k,): v for k, v in freq.items() if v >= minsup })\n",
    "L[0]\n"
   ]
  },
  {
   "cell_type": "code",
   "execution_count": 32,
   "metadata": {},
   "outputs": [],
   "source": [
    "def generate_candidates(L):\n",
    "    C = []\n",
    "    for i in range(len(L)):\n",
    "        for j in range(i+1, len(L)):\n",
    "        # iterate over all possible pairs in L\n",
    "            if L[i][:-1] == L[j][:-1]:\n",
    "            # L[i] and L[j] have matching prefixes (they only differ by the␣ ,→last item),\n",
    "            # so we generate the new element by using the same prefix and␣,→appending the\n",
    "            # two suffixes\n",
    "                C.append(L[i][:-1] + tuple(sorted([L[i][-1], L[j][-1]])))\n",
    "    return C\n"
   ]
  },
  {
   "cell_type": "code",
   "execution_count": 37,
   "metadata": {},
   "outputs": [
    {
     "name": "stdout",
     "output_type": "stream",
     "text": [
      "[('a', 'b', 'c'), ('a', 'b', 'd'), ('a', 'b', 'e'), ('b', 'c', 'd'), ('b', 'c', 'e'), ('b', 'd', 'e'), ('c', 'd', 'e'), ('a', 'c', 'd'), ('a', 'c', 'e'), ('a', 'd', 'e')]\n",
      "C:  ('a', 'b', 'c') \n",
      "-->transac: {'a', 'b'}\n",
      "C:  ('a', 'b', 'd') \n",
      "-->transac: {'a', 'b'}\n",
      "C:  ('a', 'b', 'e') \n",
      "-->transac: {'a', 'b'}\n",
      "C:  ('b', 'c', 'd') \n",
      "-->transac: {'a', 'b'}\n",
      "C:  ('b', 'c', 'e') \n",
      "-->transac: {'a', 'b'}\n",
      "C:  ('b', 'd', 'e') \n",
      "-->transac: {'a', 'b'}\n",
      "C:  ('c', 'd', 'e') \n",
      "-->transac: {'a', 'b'}\n",
      "C:  ('a', 'c', 'd') \n",
      "-->transac: {'a', 'b'}\n",
      "C:  ('a', 'c', 'e') \n",
      "-->transac: {'a', 'b'}\n",
      "C:  ('a', 'd', 'e') \n",
      "-->transac: {'a', 'b'}\n",
      "C:  ('a', 'b', 'c') \n",
      "-->transac: {'b', 'd', 'c'}\n",
      "C:  ('a', 'b', 'd') \n",
      "-->transac: {'b', 'd', 'c'}\n",
      "C:  ('a', 'b', 'e') \n",
      "-->transac: {'b', 'd', 'c'}\n",
      "C:  ('b', 'c', 'd') \n",
      "-->transac: {'b', 'd', 'c'}\n",
      "C:  ('b', 'c', 'e') \n",
      "-->transac: {'b', 'd', 'c'}\n",
      "C:  ('b', 'd', 'e') \n",
      "-->transac: {'b', 'd', 'c'}\n",
      "C:  ('c', 'd', 'e') \n",
      "-->transac: {'b', 'd', 'c'}\n",
      "C:  ('a', 'c', 'd') \n",
      "-->transac: {'b', 'd', 'c'}\n",
      "C:  ('a', 'c', 'e') \n",
      "-->transac: {'b', 'd', 'c'}\n",
      "C:  ('a', 'd', 'e') \n",
      "-->transac: {'b', 'd', 'c'}\n",
      "C:  ('a', 'b', 'c') \n",
      "-->transac: {'e', 'a', 'd', 'c'}\n",
      "C:  ('a', 'b', 'd') \n",
      "-->transac: {'e', 'a', 'd', 'c'}\n",
      "C:  ('a', 'b', 'e') \n",
      "-->transac: {'e', 'a', 'd', 'c'}\n",
      "C:  ('b', 'c', 'd') \n",
      "-->transac: {'e', 'a', 'd', 'c'}\n",
      "C:  ('b', 'c', 'e') \n",
      "-->transac: {'e', 'a', 'd', 'c'}\n",
      "C:  ('b', 'd', 'e') \n",
      "-->transac: {'e', 'a', 'd', 'c'}\n",
      "C:  ('c', 'd', 'e') \n",
      "-->transac: {'e', 'a', 'd', 'c'}\n",
      "C:  ('a', 'c', 'd') \n",
      "-->transac: {'e', 'a', 'd', 'c'}\n",
      "C:  ('a', 'c', 'e') \n",
      "-->transac: {'e', 'a', 'd', 'c'}\n",
      "C:  ('a', 'd', 'e') \n",
      "-->transac: {'e', 'a', 'd', 'c'}\n",
      "C:  ('a', 'b', 'c') \n",
      "-->transac: {'e', 'a', 'd'}\n",
      "C:  ('a', 'b', 'd') \n",
      "-->transac: {'e', 'a', 'd'}\n",
      "C:  ('a', 'b', 'e') \n",
      "-->transac: {'e', 'a', 'd'}\n",
      "C:  ('b', 'c', 'd') \n",
      "-->transac: {'e', 'a', 'd'}\n",
      "C:  ('b', 'c', 'e') \n",
      "-->transac: {'e', 'a', 'd'}\n",
      "C:  ('b', 'd', 'e') \n",
      "-->transac: {'e', 'a', 'd'}\n",
      "C:  ('c', 'd', 'e') \n",
      "-->transac: {'e', 'a', 'd'}\n",
      "C:  ('a', 'c', 'd') \n",
      "-->transac: {'e', 'a', 'd'}\n",
      "C:  ('a', 'c', 'e') \n",
      "-->transac: {'e', 'a', 'd'}\n",
      "C:  ('a', 'd', 'e') \n",
      "-->transac: {'e', 'a', 'd'}\n",
      "C:  ('a', 'b', 'c') \n",
      "-->transac: {'a', 'b', 'c'}\n",
      "C:  ('a', 'b', 'd') \n",
      "-->transac: {'a', 'b', 'c'}\n",
      "C:  ('a', 'b', 'e') \n",
      "-->transac: {'a', 'b', 'c'}\n",
      "C:  ('b', 'c', 'd') \n",
      "-->transac: {'a', 'b', 'c'}\n",
      "C:  ('b', 'c', 'e') \n",
      "-->transac: {'a', 'b', 'c'}\n",
      "C:  ('b', 'd', 'e') \n",
      "-->transac: {'a', 'b', 'c'}\n",
      "C:  ('c', 'd', 'e') \n",
      "-->transac: {'a', 'b', 'c'}\n",
      "C:  ('a', 'c', 'd') \n",
      "-->transac: {'a', 'b', 'c'}\n",
      "C:  ('a', 'c', 'e') \n",
      "-->transac: {'a', 'b', 'c'}\n",
      "C:  ('a', 'd', 'e') \n",
      "-->transac: {'a', 'b', 'c'}\n",
      "C:  ('a', 'b', 'c') \n",
      "-->transac: {'a', 'b', 'd', 'c'}\n",
      "C:  ('a', 'b', 'd') \n",
      "-->transac: {'a', 'b', 'd', 'c'}\n",
      "C:  ('a', 'b', 'e') \n",
      "-->transac: {'a', 'b', 'd', 'c'}\n",
      "C:  ('b', 'c', 'd') \n",
      "-->transac: {'a', 'b', 'd', 'c'}\n",
      "C:  ('b', 'c', 'e') \n",
      "-->transac: {'a', 'b', 'd', 'c'}\n",
      "C:  ('b', 'd', 'e') \n",
      "-->transac: {'a', 'b', 'd', 'c'}\n",
      "C:  ('c', 'd', 'e') \n",
      "-->transac: {'a', 'b', 'd', 'c'}\n",
      "C:  ('a', 'c', 'd') \n",
      "-->transac: {'a', 'b', 'd', 'c'}\n",
      "C:  ('a', 'c', 'e') \n",
      "-->transac: {'a', 'b', 'd', 'c'}\n",
      "C:  ('a', 'd', 'e') \n",
      "-->transac: {'a', 'b', 'd', 'c'}\n",
      "C:  ('a', 'b', 'c') \n",
      "-->transac: {'b', 'c'}\n",
      "C:  ('a', 'b', 'd') \n",
      "-->transac: {'b', 'c'}\n",
      "C:  ('a', 'b', 'e') \n",
      "-->transac: {'b', 'c'}\n",
      "C:  ('b', 'c', 'd') \n",
      "-->transac: {'b', 'c'}\n",
      "C:  ('b', 'c', 'e') \n",
      "-->transac: {'b', 'c'}\n",
      "C:  ('b', 'd', 'e') \n",
      "-->transac: {'b', 'c'}\n",
      "C:  ('c', 'd', 'e') \n",
      "-->transac: {'b', 'c'}\n",
      "C:  ('a', 'c', 'd') \n",
      "-->transac: {'b', 'c'}\n",
      "C:  ('a', 'c', 'e') \n",
      "-->transac: {'b', 'c'}\n",
      "C:  ('a', 'd', 'e') \n",
      "-->transac: {'b', 'c'}\n",
      "C:  ('a', 'b', 'c') \n",
      "-->transac: {'a', 'b', 'c'}\n",
      "C:  ('a', 'b', 'd') \n",
      "-->transac: {'a', 'b', 'c'}\n",
      "C:  ('a', 'b', 'e') \n",
      "-->transac: {'a', 'b', 'c'}\n",
      "C:  ('b', 'c', 'd') \n",
      "-->transac: {'a', 'b', 'c'}\n",
      "C:  ('b', 'c', 'e') \n",
      "-->transac: {'a', 'b', 'c'}\n",
      "C:  ('b', 'd', 'e') \n",
      "-->transac: {'a', 'b', 'c'}\n",
      "C:  ('c', 'd', 'e') \n",
      "-->transac: {'a', 'b', 'c'}\n",
      "C:  ('a', 'c', 'd') \n",
      "-->transac: {'a', 'b', 'c'}\n",
      "C:  ('a', 'c', 'e') \n",
      "-->transac: {'a', 'b', 'c'}\n",
      "C:  ('a', 'd', 'e') \n",
      "-->transac: {'a', 'b', 'c'}\n",
      "C:  ('a', 'b', 'c') \n",
      "-->transac: {'a', 'b', 'd'}\n",
      "C:  ('a', 'b', 'd') \n",
      "-->transac: {'a', 'b', 'd'}\n",
      "C:  ('a', 'b', 'e') \n",
      "-->transac: {'a', 'b', 'd'}\n",
      "C:  ('b', 'c', 'd') \n",
      "-->transac: {'a', 'b', 'd'}\n",
      "C:  ('b', 'c', 'e') \n",
      "-->transac: {'a', 'b', 'd'}\n",
      "C:  ('b', 'd', 'e') \n",
      "-->transac: {'a', 'b', 'd'}\n",
      "C:  ('c', 'd', 'e') \n",
      "-->transac: {'a', 'b', 'd'}\n",
      "C:  ('a', 'c', 'd') \n",
      "-->transac: {'a', 'b', 'd'}\n",
      "C:  ('a', 'c', 'e') \n",
      "-->transac: {'a', 'b', 'd'}\n",
      "C:  ('a', 'd', 'e') \n",
      "-->transac: {'a', 'b', 'd'}\n",
      "C:  ('a', 'b', 'c') \n",
      "-->transac: {'e', 'b', 'c'}\n",
      "C:  ('a', 'b', 'd') \n",
      "-->transac: {'e', 'b', 'c'}\n",
      "C:  ('a', 'b', 'e') \n",
      "-->transac: {'e', 'b', 'c'}\n",
      "C:  ('b', 'c', 'd') \n",
      "-->transac: {'e', 'b', 'c'}\n",
      "C:  ('b', 'c', 'e') \n",
      "-->transac: {'e', 'b', 'c'}\n",
      "C:  ('b', 'd', 'e') \n",
      "-->transac: {'e', 'b', 'c'}\n",
      "C:  ('c', 'd', 'e') \n",
      "-->transac: {'e', 'b', 'c'}\n",
      "C:  ('a', 'c', 'd') \n",
      "-->transac: {'e', 'b', 'c'}\n",
      "C:  ('a', 'c', 'e') \n",
      "-->transac: {'e', 'b', 'c'}\n",
      "C:  ('a', 'd', 'e') \n",
      "-->transac: {'e', 'b', 'c'}\n"
     ]
    },
    {
     "data": {
      "text/plain": [
       "defaultdict(<function __main__.<lambda>()>,\n",
       "            {('b', 'c', 'd'): 2,\n",
       "             ('c', 'd', 'e'): 1,\n",
       "             ('a', 'c', 'd'): 2,\n",
       "             ('a', 'c', 'e'): 1,\n",
       "             ('a', 'd', 'e'): 2,\n",
       "             ('a', 'b', 'c'): 3,\n",
       "             ('a', 'b', 'd'): 2,\n",
       "             ('b', 'c', 'e'): 1})"
      ]
     },
     "execution_count": 37,
     "metadata": {},
     "output_type": "execute_result"
    }
   ],
   "source": [
    "C = generate_candidates(list(L[-1].keys())) # generate new candidates from L_{k}␣,→(i.e. the keys of L[-1])\n",
    "print(C)\n",
    "freq = defaultdict(lambda: 0) # keep track of itemsets counts, as we did for␣,→step 1\n",
    "\n",
    "for t in dataset: # count frequencies in all transactions\n",
    "    transaction_set = set(t)\n",
    "    for c in C: # for each transaction, go over all candidates\n",
    "        print(\"C: \",c,\"\\n-->transac:\", transaction_set)\n",
    "        if set(c).issubset(transaction_set):\n",
    "            freq[c] += 1\n",
    "freq\n"
   ]
  },
  {
   "cell_type": "code",
   "execution_count": 35,
   "metadata": {},
   "outputs": [
    {
     "data": {
      "text/plain": [
       "[{('a',): 7, ('b',): 8, ('c',): 7, ('d',): 5, ('e',): 3},\n",
       " {('a', 'b'): 5,\n",
       "  ('b', 'c'): 6,\n",
       "  ('b', 'd'): 3,\n",
       "  ('c', 'd'): 3,\n",
       "  ('a', 'c'): 4,\n",
       "  ('a', 'd'): 4,\n",
       "  ('a', 'e'): 2,\n",
       "  ('c', 'e'): 2,\n",
       "  ('d', 'e'): 2,\n",
       "  ('b', 'e'): 1}]"
      ]
     },
     "execution_count": 35,
     "metadata": {},
     "output_type": "execute_result"
    }
   ],
   "source": [
    "L.append({ k: v for k,v in freq.items() if v >= minsup })\n",
    "L\n"
   ]
  },
  {
   "cell_type": "code",
   "execution_count": null,
   "metadata": {},
   "outputs": [],
   "source": []
  }
 ],
 "metadata": {
  "kernelspec": {
   "display_name": "Python 3",
   "language": "python",
   "name": "python3"
  },
  "language_info": {
   "codemirror_mode": {
    "name": "ipython",
    "version": 3
   },
   "file_extension": ".py",
   "mimetype": "text/x-python",
   "name": "python",
   "nbconvert_exporter": "python",
   "pygments_lexer": "ipython3",
   "version": "3.7.9"
  }
 },
 "nbformat": 4,
 "nbformat_minor": 4
}
