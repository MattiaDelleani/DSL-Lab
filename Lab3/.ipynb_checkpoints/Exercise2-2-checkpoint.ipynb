{
 "cells": [
  {
   "cell_type": "code",
   "execution_count": 1,
   "metadata": {},
   "outputs": [],
   "source": [
    "import json\n",
    "\n",
    "with open('dataset/modified_coco.json') as f:\n",
    "    \n",
    "    obj = json.load(f)\n",
    "\n",
    "    "
   ]
  },
  {
   "cell_type": "code",
   "execution_count": 2,
   "metadata": {},
   "outputs": [],
   "source": [
    "#try with dataset as a list of list\n",
    "dataset = [ ['a','b'],\n",
    "            ['b','c', 'd'],\n",
    "            ['a','c','d','e'],\n",
    "            ['a','d','e'],\n",
    "            ['a','b','c'],\n",
    "            ['a','b','c','d'],\n",
    "            ['b','c'],\n",
    "            ['a','b','c'],\n",
    "            ['a','b','d'],\n",
    "            ['b','c','e']\n",
    "          ]"
   ]
  },
  {
   "cell_type": "code",
   "execution_count": 3,
   "metadata": {},
   "outputs": [
    {
     "data": {
      "text/plain": [
       "{'a', 'b', 'c', 'd', 'e'}"
      ]
     },
     "execution_count": 3,
     "metadata": {},
     "output_type": "execute_result"
    }
   ],
   "source": [
    "items = []\n",
    "\n",
    "for row in dataset:\n",
    "    for item in row:\n",
    "        items.append(item)\n",
    "    \n",
    "starting_items = set(items)\n",
    "starting_items"
   ]
  },
  {
   "cell_type": "code",
   "execution_count": 4,
   "metadata": {},
   "outputs": [],
   "source": [
    "def calculate_support(dataset, itemset):\n",
    "    dictionary = {}\n",
    "    \n",
    "    for subset in itemset:\n",
    "        cont = 0\n",
    "        for row in dataset:\n",
    "            if subset in row:\n",
    "                cont+=1\n",
    "        dictionary[subset] = cont\n",
    "    \n",
    "    return dictionary"
   ]
  },
  {
   "cell_type": "code",
   "execution_count": 28,
   "metadata": {},
   "outputs": [],
   "source": [
    "subset_dict = calculate_support(dataset,starting_items)"
   ]
  },
  {
   "cell_type": "code",
   "execution_count": 6,
   "metadata": {},
   "outputs": [
    {
     "name": "stdout",
     "output_type": "stream",
     "text": [
      "True\n"
     ]
    }
   ],
   "source": [
    "if 'a' in list(starting_items):\n",
    "    print('True')\n",
    "else: \n",
    "    print(False)"
   ]
  },
  {
   "cell_type": "code",
   "execution_count": 34,
   "metadata": {},
   "outputs": [
    {
     "data": {
      "text/plain": [
       "{'b': 8, 'a': 7, 'e': 3, 'c': 7, 'd': 5}"
      ]
     },
     "execution_count": 34,
     "metadata": {},
     "output_type": "execute_result"
    }
   ],
   "source": [
    "#subset_dict['ab'] = 5\n",
    "#subset_dict['cd'] = 5\n",
    "subset_dict"
   ]
  },
  {
   "cell_type": "code",
   "execution_count": 36,
   "metadata": {},
   "outputs": [
    {
     "data": {
      "text/plain": [
       "['a', 'b', 'c', 'd', 'e']"
      ]
     },
     "execution_count": 36,
     "metadata": {},
     "output_type": "execute_result"
    }
   ],
   "source": [
    "sorted(subset_dict.keys())"
   ]
  },
  {
   "cell_type": "code",
   "execution_count": 119,
   "metadata": {},
   "outputs": [],
   "source": [
    "def combinations(itemset, no_iteration, lenght_starting_set):\n",
    "    subset = []\n",
    "    #get the last subset with k-1 items\n",
    "    for key in sorted(itemset):\n",
    "        if len(key)==no_iteration+1: subset.append(key) \n",
    "            \n",
    "    print(subset)\n",
    "    \n",
    "    future_subset = []\n",
    "    for i, prec in enumerate(subset):\n",
    "        for n in subset[lenght_starting_set-1]:\n",
    "            if(subset[n+1][-1]>prec[-1]):\n",
    "                future_subset.append(prec+subset[n+1][-1])\n",
    "    \n",
    "    return (future_subset)\n",
    "    \n",
    "    "
   ]
  },
  {
   "cell_type": "code",
   "execution_count": 120,
   "metadata": {},
   "outputs": [
    {
     "name": "stdout",
     "output_type": "stream",
     "text": [
      "['a', 'b', 'c', 'd', 'e']\n",
      "['ab', 'ac', 'ad', 'ae', 'bc', 'bd', 'be', 'cd', 'ce', 'de']\n"
     ]
    }
   ],
   "source": [
    "test = combinations(subset_dict,0, len(starting_items))\n",
    "print((test))"
   ]
  },
  {
   "cell_type": "code",
   "execution_count": 121,
   "metadata": {},
   "outputs": [
    {
     "name": "stdout",
     "output_type": "stream",
     "text": [
      "['ab', 'ac', 'ad', 'ae', 'bc', 'bd', 'be', 'cd', 'ce', 'de']\n"
     ]
    },
    {
     "data": {
      "text/plain": [
       "['abc', 'abd', 'abe', 'abc', 'acd', 'ace', 'ade']"
      ]
     },
     "execution_count": 121,
     "metadata": {},
     "output_type": "execute_result"
    }
   ],
   "source": [
    "combinations(test,1, len(starting_items))"
   ]
  },
  {
   "cell_type": "code",
   "execution_count": null,
   "metadata": {},
   "outputs": [],
   "source": []
  },
  {
   "cell_type": "code",
   "execution_count": null,
   "metadata": {},
   "outputs": [],
   "source": []
  }
 ],
 "metadata": {
  "kernelspec": {
   "display_name": "Python 3",
   "language": "python",
   "name": "python3"
  },
  "language_info": {
   "codemirror_mode": {
    "name": "ipython",
    "version": 3
   },
   "file_extension": ".py",
   "mimetype": "text/x-python",
   "name": "python",
   "nbconvert_exporter": "python",
   "pygments_lexer": "ipython3",
   "version": "3.7.9"
  }
 },
 "nbformat": 4,
 "nbformat_minor": 4
}
