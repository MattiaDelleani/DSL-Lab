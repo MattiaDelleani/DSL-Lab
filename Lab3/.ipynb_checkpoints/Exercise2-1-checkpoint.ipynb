{
 "cells": [
  {
   "cell_type": "code",
   "execution_count": 1,
   "metadata": {},
   "outputs": [
    {
     "name": "stdout",
     "output_type": "stream",
     "text": [
      "['invoiceNo', 'stockCode', 'description', 'quantity', 'invoiceDate', 'unitPrice', 'customerId', 'country']\n",
      "Cancelled invoices: 9288\n"
     ]
    }
   ],
   "source": [
    "import pandas as pd\n",
    "\n",
    "\n",
    "import csv\n",
    "\n",
    "with open(\"dataset/online_retail.csv\") as f:\n",
    "    \n",
    "    reader = csv.reader(f)\n",
    "    \n",
    "    dataset = [[], [], [], [], [], [], [], []]\n",
    "    labels = ['invoiceNo', 'stockCode', 'description', 'quantity', 'invoiceDate', 'unitPrice', 'customerId', 'country']\n",
    "    next(reader)\n",
    "    cancelled = 0\n",
    "    for row in reader:\n",
    "        if(row[0].startswith('C')) or len(row) != 8:\n",
    "            cancelled+=1\n",
    "            continue\n",
    "        else:\n",
    "            for i in range(8):\n",
    "                dataset[i].append(row[i])\n",
    "    \n",
    "    print(labels)\n",
    "    print(f\"Cancelled invoices: {cancelled}\")"
   ]
  },
  {
   "cell_type": "code",
   "execution_count": 2,
   "metadata": {},
   "outputs": [
    {
     "name": "stdout",
     "output_type": "stream",
     "text": [
      "Dictionary loaded. Number of different invoices: 22064\n",
      "Items for invoiceNo 574021 are :['GARDENERS KNEELING PAD KEEP CALM ', 'HOT WATER BOTTLE KEEP CALM', 'DOORMAT KEEP CALM AND COME IN']\n"
     ]
    }
   ],
   "source": [
    "dictionary = {}\n",
    "\n",
    "for i, value in enumerate(dataset[0]):\n",
    "    if value in dictionary.keys():\n",
    "        dictionary[value].append(dataset[2][i])\n",
    "    else:\n",
    "        dictionary[value] = [dataset[2][i]]\n",
    "        \n",
    "print(f\"Dictionary loaded. Number of different invoices: {len(dictionary.keys())}\")\n",
    "print(f\"Items for invoiceNo 574021 are :{dictionary['574021']}\")"
   ]
  },
  {
   "cell_type": "code",
   "execution_count": 3,
   "metadata": {},
   "outputs": [
    {
     "name": "stdout",
     "output_type": "stream",
     "text": [
      "Chack the number of different invoices: 22064\n",
      "Number of different items: 4208\n",
      "-->  4 PURPLE FLOCK DINNER CANDLES\n"
     ]
    }
   ],
   "source": [
    "invoices_list = sorted([key for key in dictionary.keys()])\n",
    "items_list = sorted(list(set(dataset[2])))\n",
    "print(f\"Chack the number of different invoices: {len(invoices_list)}\")\n",
    "print(f\"Number of different items: {len(items_list)}\")\n",
    "print(\"-->\", items_list[1])"
   ]
  },
  {
   "cell_type": "markdown",
   "metadata": {},
   "source": [
    "### Building PA matrix\n"
   ]
  },
  {
   "cell_type": "code",
   "execution_count": 4,
   "metadata": {},
   "outputs": [],
   "source": [
    "def get_presence_matrix(invoices_list, items_list):\n",
    "    matrix = []\n",
    "    for invoice in invoices_list:\n",
    "        item_list_for_invoice = []\n",
    "        for item in items_list:\n",
    "            if item in dictionary[invoice]: \n",
    "                item_list_for_invoice.append(1)\n",
    "            else:\n",
    "                item_list_for_invoice.append(0)\n",
    "\n",
    "        matrix.append(item_list_for_invoice)\n",
    "    \n",
    "    return matrix"
   ]
  },
  {
   "cell_type": "code",
   "execution_count": null,
   "metadata": {},
   "outputs": [],
   "source": [
    "matrix = get_presence_matrix(invoices_list, items_list)\n",
    "\n",
    "print(item_list_for_invoice)\n",
    "print(len(matrix[1]))\n",
    "print(entra)"
   ]
  },
  {
   "cell_type": "markdown",
   "metadata": {},
   "source": [
    "## Using pandas DF\n"
   ]
  },
  {
   "cell_type": "code",
   "execution_count": null,
   "metadata": {},
   "outputs": [],
   "source": [
    "df = pd.DataFrame(data = matrix, columns = items_list)"
   ]
  },
  {
   "cell_type": "code",
   "execution_count": null,
   "metadata": {},
   "outputs": [],
   "source": [
    "print(len(df))"
   ]
  },
  {
   "cell_type": "markdown",
   "metadata": {},
   "source": [
    "### FP-growth "
   ]
  },
  {
   "cell_type": "code",
   "execution_count": null,
   "metadata": {},
   "outputs": [],
   "source": [
    "from mlxtend.frequent_patterns import fpgrowth, association_rules\n",
    "\n",
    "fi = fpgrowth(df, 0.02)\n",
    "print(len(fi))\n",
    "print(fi.to_string())\n"
   ]
  },
  {
   "cell_type": "code",
   "execution_count": null,
   "metadata": {},
   "outputs": [],
   "source": [
    "#fi -->print the df ordered by support, so the most relevant is fi['itemsets'][0]\n",
    " #convert to the list the frozenset because is the only way to access the items\n",
    "max_supp = 0\n",
    "max_pos = -1.0\n",
    "for i, value in enumerate(fi['support']):\n",
    "    if value> max_supp:\n",
    "        max_pos = i\n",
    "        max_supp = value\n",
    "\n",
    "    \n",
    "print(f\"The most useful item is : {items_list[list(fi['itemsets'][max_pos])[0]]} with a support: {fi['support'][max_pos]}\")"
   ]
  },
  {
   "cell_type": "code",
   "execution_count": null,
   "metadata": {},
   "outputs": [],
   "source": [
    "#number of items in the FP-growth\n",
    "counter = 0\n",
    "for frozen_set in fi['itemsets']:\n",
    "    counter += len(frozen_set)"
   ]
  },
  {
   "cell_type": "code",
   "execution_count": null,
   "metadata": {},
   "outputs": [],
   "source": [
    "print(f\"The number of itemsets in the FP-growth solution are {len(fi)} and the number of items is {counter}\")"
   ]
  },
  {
   "cell_type": "markdown",
   "metadata": {},
   "source": [
    "### Association rules"
   ]
  },
  {
   "cell_type": "code",
   "execution_count": null,
   "metadata": {},
   "outputs": [],
   "source": [
    "associations_df = association_rules(fi, metric = 'confidence', min_threshold = 0.7)\n",
    "associations_df"
   ]
  },
  {
   "cell_type": "code",
   "execution_count": null,
   "metadata": {},
   "outputs": [],
   "source": [
    "print(\"Association DataFrame ordered by 'confidence' column:\")\n",
    "associations_df.sort_values(by='confidence', ascending = False)\n"
   ]
  },
  {
   "cell_type": "markdown",
   "metadata": {},
   "source": [
    "## 2.1.8 - Apriori"
   ]
  },
  {
   "cell_type": "code",
   "execution_count": null,
   "metadata": {},
   "outputs": [],
   "source": [
    "from mlxtend.frequent_patterns import apriori\n",
    "\n",
    "\n",
    "ap = apriori(df, 0.02)"
   ]
  },
  {
   "cell_type": "code",
   "execution_count": null,
   "metadata": {},
   "outputs": [],
   "source": [
    "print(len(fi))\n",
    "print(fi.to_string())"
   ]
  },
  {
   "cell_type": "code",
   "execution_count": null,
   "metadata": {},
   "outputs": [],
   "source": [
    "max_supp = 0\n",
    "max_pos = -1.0\n",
    "for i, value in enumerate(ap['support']):\n",
    "    if value> max_supp:\n",
    "        max_pos = i\n",
    "        max_supp = value\n",
    "\n",
    "    \n",
    "print(f\"The most useful item is : {items_list[list(ap['itemsets'][max_pos])[0]]} with a support: {ap['support'][max_pos]}\")"
   ]
  },
  {
   "cell_type": "code",
   "execution_count": null,
   "metadata": {},
   "outputs": [],
   "source": [
    "import timeit\n",
    "\n",
    "\n",
    "\n",
    "\n",
    "# number=1 means that it executes the function only once\n",
    "apriori_time = timeit.timeit(lambda: apriori(df, 0.02), number=1)\n",
    "\n",
    "fpgrowth_time = timeit.timeit(lambda: fpgrowth(df, 0.02), number = 1)\n"
   ]
  },
  {
   "cell_type": "code",
   "execution_count": null,
   "metadata": {},
   "outputs": [],
   "source": [
    "print(f\"Time APRIORI: \", apriori_time, \" seconds\")\n",
    "print(f\"Time FP_growth: \", fpgrowth_time, \" seconds\")"
   ]
  },
  {
   "cell_type": "code",
   "execution_count": null,
   "metadata": {},
   "outputs": [],
   "source": []
  }
 ],
 "metadata": {
  "kernelspec": {
   "display_name": "Python 3",
   "language": "python",
   "name": "python3"
  },
  "language_info": {
   "codemirror_mode": {
    "name": "ipython",
    "version": 3
   },
   "file_extension": ".py",
   "mimetype": "text/x-python",
   "name": "python",
   "nbconvert_exporter": "python",
   "pygments_lexer": "ipython3",
   "version": "3.7.9"
  }
 },
 "nbformat": 4,
 "nbformat_minor": 4
}
