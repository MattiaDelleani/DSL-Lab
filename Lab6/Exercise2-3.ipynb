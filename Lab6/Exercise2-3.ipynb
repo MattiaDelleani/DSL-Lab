{
 "cells": [
  {
   "cell_type": "markdown",
   "metadata": {},
   "source": [
    "## 2.3.1 - Loading Data an split test and training set"
   ]
  },
  {
   "cell_type": "code",
   "execution_count": 20,
   "metadata": {},
   "outputs": [
    {
     "data": {
      "text/plain": [
       "array([[0., 0., 0., ..., 0., 0., 0.],\n",
       "       [0., 0., 0., ..., 0., 0., 0.],\n",
       "       [0., 0., 0., ..., 0., 0., 0.],\n",
       "       ...,\n",
       "       [0., 0., 0., ..., 0., 0., 0.],\n",
       "       [0., 0., 0., ..., 0., 0., 0.],\n",
       "       [0., 0., 0., ..., 0., 0., 0.]])"
      ]
     },
     "execution_count": 20,
     "metadata": {},
     "output_type": "execute_result"
    }
   ],
   "source": [
    "from sklearn.datasets import fetch_openml\n",
    "dataset = fetch_openml(\"mnist_784\")\n",
    "X = dataset[\"data\"]\n",
    "y = dataset[\"target\"]\n",
    "X"
   ]
  },
  {
   "cell_type": "code",
   "execution_count": 40,
   "metadata": {},
   "outputs": [],
   "source": [
    "import pandas as pd\n",
    "import sklearn.model_selection as ms\n",
    "from sklearn.tree import DecisionTreeClassifier\n",
    "from sklearn.metrics import classification_report, accuracy_score, precision_recall_fscore_support"
   ]
  },
  {
   "cell_type": "code",
   "execution_count": 34,
   "metadata": {},
   "outputs": [],
   "source": [
    "X_train, X_test, y_train, y_test = ms.train_test_split(X,y, test_size = 10000)"
   ]
  },
  {
   "cell_type": "markdown",
   "metadata": {},
   "source": [
    "## 2.3.2 - Build a DTClassifier and compute metrics"
   ]
  },
  {
   "cell_type": "code",
   "execution_count": 38,
   "metadata": {},
   "outputs": [],
   "source": [
    "clf = DecisionTreeClassifier()\n",
    "clf.fit(X_train, y_train)\n",
    "y_pred = clf.predict(X_test)\n"
   ]
  },
  {
   "cell_type": "code",
   "execution_count": 42,
   "metadata": {},
   "outputs": [
    {
     "name": "stdout",
     "output_type": "stream",
     "text": [
      "0.8769\n",
      "[0.93942403 0.93929174 0.85465711 0.85441767 0.86952191 0.83314917\n",
      " 0.88163265 0.91015625 0.8372591  0.82877406] \n",
      " [0.92023346 0.96450216 0.84857724 0.8302439  0.87125749 0.81690141\n",
      " 0.91139241 0.91193738 0.81204569 0.86105263] \n",
      " [0.92972973 0.95173003 0.85160632 0.84215735 0.87038883 0.8249453\n",
      " 0.89626556 0.91104594 0.82445967 0.84460506] \n",
      " [1028 1155  984 1025 1002  923  948 1022  963  950]\n"
     ]
    }
   ],
   "source": [
    "precision, recall, f1, support = precision_recall_fscore_support(y_test, y_pred)\n",
    "accuracy = accuracy_score(y_test, y_pred)\n",
    "print(accuracy)\n",
    "print(precision,\"\\n\", recall,\"\\n\", f1, \"\\n\",support)"
   ]
  },
  {
   "cell_type": "code",
   "execution_count": 46,
   "metadata": {},
   "outputs": [
    {
     "name": "stdout",
     "output_type": "stream",
     "text": [
      "              precision    recall  f1-score   support\n",
      "\n",
      "           0       0.94      0.92      0.93      1028\n",
      "           1       0.94      0.96      0.95      1155\n",
      "           2       0.85      0.85      0.85       984\n",
      "           3       0.85      0.83      0.84      1025\n",
      "           4       0.87      0.87      0.87      1002\n",
      "           5       0.83      0.82      0.82       923\n",
      "           6       0.88      0.91      0.90       948\n",
      "           7       0.91      0.91      0.91      1022\n",
      "           8       0.84      0.81      0.82       963\n",
      "           9       0.83      0.86      0.84       950\n",
      "\n",
      "    accuracy                           0.88     10000\n",
      "   macro avg       0.87      0.87      0.87     10000\n",
      "weighted avg       0.88      0.88      0.88     10000\n",
      "\n"
     ]
    }
   ],
   "source": [
    "report = classification_report(y_test, y_pred)\n",
    "print(report)"
   ]
  },
  {
   "cell_type": "markdown",
   "metadata": {},
   "source": [
    "## 2.3.3 -"
   ]
  },
  {
   "cell_type": "code",
   "execution_count": null,
   "metadata": {},
   "outputs": [],
   "source": []
  }
 ],
 "metadata": {
  "kernelspec": {
   "display_name": "Python 3",
   "language": "python",
   "name": "python3"
  },
  "language_info": {
   "codemirror_mode": {
    "name": "ipython",
    "version": 3
   },
   "file_extension": ".py",
   "mimetype": "text/x-python",
   "name": "python",
   "nbconvert_exporter": "python",
   "pygments_lexer": "ipython3",
   "version": "3.7.9"
  }
 },
 "nbformat": 4,
 "nbformat_minor": 4
}
