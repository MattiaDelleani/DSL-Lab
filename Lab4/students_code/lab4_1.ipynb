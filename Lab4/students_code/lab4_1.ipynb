{
 "cells": [
  {
   "cell_type": "markdown",
   "metadata": {},
   "source": [
    "First, we upload the csv file as a dataframe using pandas. This is the most rapid way to do that."
   ]
  },
  {
   "cell_type": "code",
   "execution_count": 25,
   "metadata": {},
   "outputs": [
    {
     "data": {
      "text/html": [
       "<div>\n",
       "<style scoped>\n",
       "    .dataframe tbody tr th:only-of-type {\n",
       "        vertical-align: middle;\n",
       "    }\n",
       "\n",
       "    .dataframe tbody tr th {\n",
       "        vertical-align: top;\n",
       "    }\n",
       "\n",
       "    .dataframe thead th {\n",
       "        text-align: right;\n",
       "    }\n",
       "</style>\n",
       "<table border=\"1\" class=\"dataframe\">\n",
       "  <thead>\n",
       "    <tr style=\"text-align: right;\">\n",
       "      <th></th>\n",
       "      <th>0</th>\n",
       "      <th>1</th>\n",
       "      <th>2</th>\n",
       "      <th>3</th>\n",
       "      <th>4</th>\n",
       "    </tr>\n",
       "  </thead>\n",
       "  <tbody>\n",
       "    <tr>\n",
       "      <th>145</th>\n",
       "      <td>6.7</td>\n",
       "      <td>3.0</td>\n",
       "      <td>5.2</td>\n",
       "      <td>2.3</td>\n",
       "      <td>Iris-virginica</td>\n",
       "    </tr>\n",
       "    <tr>\n",
       "      <th>146</th>\n",
       "      <td>6.3</td>\n",
       "      <td>2.5</td>\n",
       "      <td>5.0</td>\n",
       "      <td>1.9</td>\n",
       "      <td>Iris-virginica</td>\n",
       "    </tr>\n",
       "    <tr>\n",
       "      <th>147</th>\n",
       "      <td>6.5</td>\n",
       "      <td>3.0</td>\n",
       "      <td>5.2</td>\n",
       "      <td>2.0</td>\n",
       "      <td>Iris-virginica</td>\n",
       "    </tr>\n",
       "    <tr>\n",
       "      <th>148</th>\n",
       "      <td>6.2</td>\n",
       "      <td>3.4</td>\n",
       "      <td>5.4</td>\n",
       "      <td>2.3</td>\n",
       "      <td>Iris-virginica</td>\n",
       "    </tr>\n",
       "    <tr>\n",
       "      <th>149</th>\n",
       "      <td>5.9</td>\n",
       "      <td>3.0</td>\n",
       "      <td>5.1</td>\n",
       "      <td>1.8</td>\n",
       "      <td>Iris-virginica</td>\n",
       "    </tr>\n",
       "  </tbody>\n",
       "</table>\n",
       "</div>"
      ],
      "text/plain": [
       "       0    1    2    3               4\n",
       "145  6.7  3.0  5.2  2.3  Iris-virginica\n",
       "146  6.3  2.5  5.0  1.9  Iris-virginica\n",
       "147  6.5  3.0  5.2  2.0  Iris-virginica\n",
       "148  6.2  3.4  5.4  2.3  Iris-virginica\n",
       "149  5.9  3.0  5.1  1.8  Iris-virginica"
      ]
     },
     "execution_count": 25,
     "metadata": {},
     "output_type": "execute_result"
    }
   ],
   "source": [
    "import pandas as pd\n",
    "import numpy as np\n",
    "import math as mt\n",
    "\n",
    "\n",
    "df = pd.read_csv(\"https://archive.ics.uci.edu/ml/machine-learning-databases/iris/iris.data\",header=None)\n",
    "df.tail() #we check the final lines"
   ]
  },
  {
   "cell_type": "markdown",
   "metadata": {},
   "source": [
    "It can be seen that the number of rows of the csv file is equal to 150. As assignment, we want to select the 20% of the rows randomly: we'll use the function .sample(frac = percentage between 0 and 1) of the dataframe.\n",
    "Then we use the pandas function .iloc in order to obtain the table of interest.\n",
    "Moreover, the function \"FromStringToValue\" is the on which transforms the three Iris species into numbers from 0 to 2: every index is a LABEL. \n",
    "Finally, the testing dataset is computed by merging the first-4-columns-matrix and the obtained labelled-species column."
   ]
  },
  {
   "cell_type": "code",
   "execution_count": 26,
   "metadata": {},
   "outputs": [
    {
     "name": "stdout",
     "output_type": "stream",
     "text": [
      "Legend as it follows:\n",
      "\n",
      "Iris-versicolor is equal to 0\n",
      "Iris-setosa is equal to 1\n",
      "Iris-virginica is equal to 2\n",
      "\n",
      "Test row is: [5.8 2.7 3.9 1.2 0. ]\n"
     ]
    }
   ],
   "source": [
    "shuffleTest = df.sample(frac=1)\n",
    "x_test = shuffleTest.iloc[:,0:4].values\n",
    "y_test = shuffleTest.iloc[:,4].values\n",
    "\n",
    "\n",
    "def FromStringToValue(species_list):\n",
    "    class_values= set(species_list) \n",
    "    LUT = {}\n",
    "    print(\"Legend as it follows:\")\n",
    "    print()\n",
    "    for i, species in enumerate(class_values):\n",
    "        LUT[species] = i\n",
    "        print(f\"{species} is equal to {i}\")\n",
    "    updated_speciesList = []\n",
    "    for row in species_list:\n",
    "        row = LUT[row]\n",
    "        updated_speciesList.append(row)\n",
    "    return updated_speciesList\n",
    "\n",
    "y_test = FromStringToValue(y_test)\n",
    "dasetTest=np.column_stack((x_test,y_test))\n",
    "\n",
    "rowInit = dasetTest[144]#row that's the data selected as recognition testing \n",
    "                        #with the 5th column (corresponding species) labelled with 0, 1, 3\n",
    "speciesInit = int(rowInit[4])\n",
    "print()\n",
    "print(f\"Test row is: {rowInit}\")"
   ]
  },
  {
   "cell_type": "markdown",
   "metadata": {},
   "source": [
    "Now, as first step of KNN we have to build the three types of Distances between two points of our 2D vectors. In our case, we will print the result of the function between the first row and every row of the given training dataset (the first will be equal to 0 since it's doing the euclidean distance to itself).\n",
    "Then we create a \"choosing\" function (maybe implemented later with Classes Functions) that allows the user to select a Distance-ID and then computed the corresping type of distance."
   ]
  },
  {
   "cell_type": "code",
   "execution_count": 27,
   "metadata": {},
   "outputs": [],
   "source": [
    "from math import sqrt\n",
    "\n",
    "def EuclideanDistance(r1, r2): #we define the p_i and q_i of each pair of rows\n",
    "    distance = 0.0\n",
    "    for i in range(len(r1)-1):\n",
    "        distance += (r1[i] - r2[i])**2\n",
    "    return mt.sqrt(distance)\n",
    "\n",
    "\n",
    "def CosineDistance(r1,r2):\n",
    "    distance = 0.0\n",
    "    sum1 = 0.0\n",
    "    sum2 = 0.0\n",
    "    sum3 = 0.0\n",
    "    for i in range(len(r1)-1):\n",
    "        sum1 += (r1[i]*r2[i])\n",
    "        sum2 += r1[i]**2\n",
    "        sum3 += r2[i]**2\n",
    "    distance = 1-abs(sum1/mt.sqrt(sum2*sum3))\n",
    "    return distance\n",
    "\n",
    "\n",
    "def ManhattanDistance(r1,r2):\n",
    "    distance = 0.0\n",
    "    for i in range(len(r1)-1):\n",
    "        distance += abs((r1[i] - r2[i]))\n",
    "    return distance\n",
    "\n",
    "\n",
    "def ChooseTypeOfDistance (k,r1,r2):\n",
    "    types = {'Euclidean': 0, 'Cosine': 1, 'Manhattan': 2}\n",
    "    if k == types['Euclidean']:\n",
    "        return EuclideanDistance(r1,r2)\n",
    "    elif k == types['Cosine']:\n",
    "        return CosineDistance(r1,r2)\n",
    "    elif k == types['Manhattan']:\n",
    "        return ManhattanDistance(r1,r2)"
   ]
  },
  {
   "cell_type": "markdown",
   "metadata": {},
   "source": [
    "At this point we want to generate a function that, given the proper parameters, uses the KNN Algorithm and computes the most nearest k-neighbors. It will be fed up by the previously calculated distances."
   ]
  },
  {
   "cell_type": "code",
   "execution_count": 28,
   "metadata": {},
   "outputs": [
    {
     "name": "stdout",
     "output_type": "stream",
     "text": [
      "\n",
      "[5.8 2.7 3.9 1.2 0. ]\n",
      "\n",
      "[5.8 2.6 4.  1.2 0. ]\n",
      "\n",
      "[5.8 2.7 4.1 1.  0. ]\n",
      "\n",
      "[5.7 2.8 4.1 1.3 0. ]\n",
      "\n",
      "[5.6 2.5 3.9 1.1 0. ]\n",
      "\n"
     ]
    }
   ],
   "source": [
    "def getNeighbors(trainingList, testRow, numNeighbors):\n",
    "    distances = []\n",
    "    for trainingRow in trainingList:\n",
    "        dist = ChooseTypeOfDistance(2,testRow, trainingRow) #first we calculate the chosen \n",
    "                                                            #type of distance from this function\n",
    "        distances.append((trainingRow, dist))\n",
    "    distances.sort(key=lambda tup: tup[1])\n",
    "    neighbors = []\n",
    "    \n",
    "    for i in range(numNeighbors):\n",
    "        neighbors.append(distances[i][0])\n",
    "    return neighbors\n",
    "\n",
    "\n",
    "print()\n",
    "neighbors = getNeighbors(dasetTest,dasetTest[144], 5)\n",
    "for neighbor in neighbors:\n",
    "    print(neighbor)\n",
    "    print()"
   ]
  },
  {
   "cell_type": "markdown",
   "metadata": {},
   "source": [
    "We sort distances, but first we initialize them as tuples: we use the key parameter in the sort function to define a \"reference function\" for the sorting order. In this case, the reference is the 2nd column-tuple of \"distances\", so \"dist\".\n",
    "We have now got how to know the neirghbors from the dataset and it's time to make predictions.\n",
    "Basically, we could use the MAX function among the neighbors set that \"studies\" the neighbors and return only one class value.\n"
   ]
  },
  {
   "cell_type": "code",
   "execution_count": 29,
   "metadata": {},
   "outputs": [
    {
     "name": "stdout",
     "output_type": "stream",
     "text": [
      "Data selected:\n",
      "[5.8, 2.7, 3.9, 1.2]\n",
      "\n",
      "Predicted 0\n",
      "\n",
      "Verifying: the expected one is 0\n",
      "\n"
     ]
    }
   ],
   "source": [
    "def PredictClassification(trainingList, testRow, numNeighbors):\n",
    "    neighbors = getNeighbors(trainingList, testRow, numNeighbors)\n",
    "    outputs = [el[-1] for el in neighbors]\n",
    "    prediction = max(set(outputs), key=outputs.count) #same idea of sort for the key\n",
    "    return prediction\n",
    "\n",
    "\n",
    "neighbors = getNeighbors(dasetTest, rowInit, 5)\n",
    "prediction = PredictClassification(dasetTest, rowInit, 5)\n",
    "\n",
    "print(\"Data selected:\")\n",
    "print(list(rowInit[:4]))\n",
    "print()\n",
    "print(f\"Predicted {int(prediction)}\")\n",
    "print()\n",
    "print(f\"Verifying: the expected one is {speciesInit}\")\n",
    "print()\n"
   ]
  },
  {
   "cell_type": "code",
   "execution_count": null,
   "metadata": {},
   "outputs": [],
   "source": []
  }
 ],
 "metadata": {
  "kernelspec": {
   "display_name": "Python 3",
   "language": "python",
   "name": "python3"
  },
  "language_info": {
   "codemirror_mode": {
    "name": "ipython",
    "version": 3
   },
   "file_extension": ".py",
   "mimetype": "text/x-python",
   "name": "python",
   "nbconvert_exporter": "python",
   "pygments_lexer": "ipython3",
   "version": "3.8.3"
  }
 },
 "nbformat": 4,
 "nbformat_minor": 4
}
