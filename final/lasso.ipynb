{
 "cells": [
  {
   "cell_type": "code",
   "execution_count": 2,
   "metadata": {},
   "outputs": [],
   "source": [
    "import pandas as pd\n",
    "import numpy as np\n",
    "from sklearn.model_selection import train_test_split\n",
    "from sklearn.linear_model import LinearRegression\n",
    "from sklearn.neural_network import MLPRegressor\n",
    "from sklearn.svm import SVR\n",
    "from sklearn.ensemble import RandomForestRegressor\n",
    "from sklearn.linear_model import Ridge\n",
    "from sklearn.preprocessing import FunctionTransformer, PolynomialFeatures, OneHotEncoder\n",
    "from sklearn.compose import make_column_transformer\n",
    "from sklearn.pipeline import make_pipeline\n",
    "import scipy as sp\n",
    "from sklearn.linear_model import Lasso\n",
    "from sklearn.cross_decomposition import PLSRegression\n",
    "from sklearn.linear_model import LinearRegression\n",
    "from sklearn.preprocessing import StandardScaler\n",
    "from sklearn.decomposition import PCA\n",
    "from sklearn.decomposition import TruncatedSVD\n",
    "from sklearn.linear_model import LogisticRegression\n"
   ]
  },
  {
   "cell_type": "markdown",
   "metadata": {},
   "source": [
    "## Load data"
   ]
  },
  {
   "cell_type": "code",
   "execution_count": 3,
   "metadata": {},
   "outputs": [],
   "source": [
    "dev_df = pd.read_csv(\"dataset/dev.tsv\", sep =\"\\t\")\n",
    "eval_df =  pd.read_csv(\"dataset/eval.tsv\", sep =\"\\t\")\n",
    "\n",
    "## DROP DUPLICATES\n",
    "\n",
    "\n",
    "dev_df = dev_df.drop_duplicates(keep = False)\n",
    "dataset = dev_df.copy()"
   ]
  },
  {
   "cell_type": "markdown",
   "metadata": {},
   "source": [
    "### Some analysis"
   ]
  },
  {
   "cell_type": "code",
   "execution_count": null,
   "metadata": {},
   "outputs": [],
   "source": [
    "dataset.info()"
   ]
  },
  {
   "cell_type": "code",
   "execution_count": null,
   "metadata": {},
   "outputs": [],
   "source": [
    "dataset.describe()"
   ]
  },
  {
   "cell_type": "code",
   "execution_count": null,
   "metadata": {},
   "outputs": [],
   "source": [
    "for col in dataset.columns:\n",
    "    print(f\"{col}: {dataset[col].unique().shape[0]}\")"
   ]
  },
  {
   "cell_type": "markdown",
   "metadata": {},
   "source": [
    "#### Missing values and case normalization"
   ]
  },
  {
   "cell_type": "code",
   "execution_count": 4,
   "metadata": {},
   "outputs": [],
   "source": [
    "df = dataset.copy().fillna('')\n",
    "df.description=df.description.str.lower()\n",
    "df.country=df.country.str.lower()\n",
    "df.designation=df.designation.str.lower()\n",
    "df.province=df.province.str.lower()\n",
    "df.region_1=df.region_1.str.lower()\n",
    "df.region_2=df.region_2.str.lower()\n",
    "df.variety=df.variety.str.lower()\n",
    "df.winery=df.winery.str.lower()\n"
   ]
  },
  {
   "cell_type": "markdown",
   "metadata": {},
   "source": [
    "##### Categorical encoding: One Hote Encoding\n"
   ]
  },
  {
   "cell_type": "code",
   "execution_count": 5,
   "metadata": {},
   "outputs": [],
   "source": [
    "enc = OneHotEncoder(sparse = True, handle_unknown= 'ignore')\n",
    "\n",
    "df_1 = enc.fit_transform(df.drop(columns=['description', 'quality']))#"
   ]
  },
  {
   "cell_type": "markdown",
   "metadata": {},
   "source": [
    "#### Description handling - Vectorizer"
   ]
  },
  {
   "cell_type": "code",
   "execution_count": 6,
   "metadata": {},
   "outputs": [],
   "source": [
    "from sklearn.feature_extraction.text import  TfidfVectorizer\n",
    "from nltk.corpus import stopwords as sw\n",
    "\n",
    "var_vectorizer = TfidfVectorizer(stop_words=\"english\", binary=True, use_idf=False, norm=False)\n",
    "# word presence matrix (i-th row, j-th col => 1 if j-th word is contained in i-th title)\n",
    "wpm = var_vectorizer.fit_transform(dataset[\"description\"])\n"
   ]
  },
  {
   "cell_type": "code",
   "execution_count": 7,
   "metadata": {},
   "outputs": [
    {
     "data": {
      "text/plain": [
       "(120744, 28903)"
      ]
     },
     "execution_count": 7,
     "metadata": {},
     "output_type": "execute_result"
    }
   ],
   "source": [
    "#wpm_df = pd.DataFrame.sparse.from_spmatrix(wpm)\n",
    "wpm.shape"
   ]
  },
  {
   "cell_type": "markdown",
   "metadata": {},
   "source": [
    "### Merge the encoded matricies"
   ]
  },
  {
   "cell_type": "code",
   "execution_count": 8,
   "metadata": {
    "scrolled": true
   },
   "outputs": [
    {
     "data": {
      "text/plain": [
       "(120744, 72964)"
      ]
     },
     "execution_count": 8,
     "metadata": {},
     "output_type": "execute_result"
    }
   ],
   "source": [
    "X_dev = sp.sparse.hstack((wpm, df_1))\n",
    "X_dev.shape"
   ]
  },
  {
   "cell_type": "markdown",
   "metadata": {},
   "source": [
    "### TruncatedSVD"
   ]
  },
  {
   "cell_type": "code",
   "execution_count": 22,
   "metadata": {},
   "outputs": [
    {
     "name": "stdout",
     "output_type": "stream",
     "text": [
      "Variance explained by 1515 components: 0.90\n"
     ]
    },
    {
     "data": {
      "text/plain": [
       "Text(0, 0.5, 'Variance explained')"
      ]
     },
     "execution_count": 22,
     "metadata": {},
     "output_type": "execute_result"
    },
    {
     "data": {
      "image/png": "[encoded data removed]",
      "text/plain": [
       "<Figure size 432x288 with 1 Axes>"
      ]
     },
     "metadata": {
      "needs_background": "light"
     },
     "output_type": "display_data"
    }
   ],
   "source": [
    "from sklearn.decomposition import TruncatedSVD\n",
    "svd = TruncatedSVD( n_components=4000,random_state=42)#\n",
    "X_svd = svd.fit_transform(X_dev)\n",
    "\n",
    "cum_variance = np.cumsum(svd.explained_variance_ratio_)\n",
    "idx = np.argmax(cum_variance > .8)\n",
    "\n",
    "print(f\"Variance explained by {idx} components: {np.sum(svd.explained_variance_ratio_):.2f}\")\n",
    "\n",
    "from matplotlib import pyplot as plt\n",
    "explained_pca = np.cumsum(svd.explained_variance_ratio_)\n",
    "#Plotting cumulative variance\n",
    "plt.plot(cum_variance)\n",
    "plt.title('Cumulative variance')\n",
    "plt.xlabel('Number of components')\n",
    "plt.ylabel('Variance explained')"
   ]
  },
  {
   "cell_type": "code",
   "execution_count": null,
   "metadata": {},
   "outputs": [],
   "source": [
    "num_comps = 1515\n",
    "\n",
    "svd = TruncatedSVD(n_components= num_comps, random_state=42)#\n",
    "X_svd = svd.fit_transform(X_dev)\n",
    "\n",
    "print(f\"Variance explained by {num_comps} components: {np.sum(svd.explained_variance_ratio_):.2f}\")\n",
    "\n",
    "\n"
   ]
  },
  {
   "cell_type": "markdown",
   "metadata": {},
   "source": [
    "Just for the plots."
   ]
  },
  {
   "cell_type": "code",
   "execution_count": 26,
   "metadata": {
    "scrolled": true
   },
   "outputs": [
    {
     "name": "stdout",
     "output_type": "stream",
     "text": [
      "r2_score for 50:  0.38715697197348553\n",
      "r2_score for 100:  0.40466334548940586\n",
      "r2_score for 200:  0.4129447611497039\n",
      "r2_score for 400:  0.41114419133582236\n",
      "r2_score for 800:  0.409081852090726\n",
      "r2_score for 1500:  0.40425056932030135\n"
     ]
    }
   ],
   "source": [
    "results = {}\n",
    "for n in [50,100,200,400,800, 1500]:\n",
    "    X = X_dev.copy()\n",
    "    svd = TruncatedSVD(n_components= n, random_state=42)#\n",
    "    X_svd = svd.fit_transform(X)\n",
    "    variance = np.sum(svd.explained_variance_ratio_)\n",
    "    \n",
    "    X_train, X_valid, y_train, y_valid = train_test_split(X_svd, y, shuffle=True, random_state=42)\n",
    "    reg = RandomForestRegressor(100, random_state=42, n_jobs = 4)\n",
    "    reg.fit(X_train , y_train)\n",
    "    r2 = r2_score(y_valid, reg.predict(X_valid))\n",
    "    \n",
    "    results[n] = [variance, r2]\n",
    "    print(f\"r2_score for {n}: \",r2)"
   ]
  },
  {
   "cell_type": "code",
   "execution_count": 37,
   "metadata": {},
   "outputs": [
    {
     "data": {
      "image/png": "[encoded data removed]",
      "text/plain": [
       "<Figure size 432x288 with 1 Axes>"
      ]
     },
     "metadata": {
      "needs_background": "light"
     },
     "output_type": "display_data"
    }
   ],
   "source": [
    "from matplotlib import pyplot as plt\n",
    "\n",
    "x = []\n",
    "var = []\n",
    "r2_list = []\n",
    "for k, v in results.items():\n",
    "    x.append(k)\n",
    "    var.append(v[0])\n",
    "    r2_list.append(v[1])\n",
    "x\n",
    "\n",
    "fig = plt.figure()\n",
    "ax=fig.add_subplot(111)\n",
    " \n",
    "ax.plot(x,var,c='b',label='Variance explained')\n",
    "ax.plot(x,r2_list,c='g',label='R2 score')\n",
    "\n",
    "plt.xlabel(\"Number of components\")\n",
    "plt.legend(loc=2)\n",
    "plt.show()"
   ]
  },
  {
   "cell_type": "markdown",
   "metadata": {},
   "source": [
    "### RandomForestRegressor"
   ]
  },
  {
   "cell_type": "code",
   "execution_count": null,
   "metadata": {},
   "outputs": [],
   "source": [
    "X_train, X_valid, y_train, y_valid = train_test_split(X_svd, y, shuffle=True, random_state=42)\n",
    "\n",
    "from sklearn.ensemble import RandomForestRegressor\n",
    "from sklearn.metrics import r2_score\n",
    "\n",
    "reg = RandomForestRegressor(100, random_state=42, n_jobs = 4)\n",
    "reg.fit(X_train , y_train)\n",
    "r2 = r2_score(y_valid, reg.predict(X_valid))\n",
    "print(\"r2_score: \",r2)"
   ]
  },
  {
   "cell_type": "code",
   "execution_count": null,
   "metadata": {},
   "outputs": [],
   "source": [
    "sorted(zip(feature_names, reg.feature_importances_), key=lambda x: x[1], reverse=True)[:1000]"
   ]
  },
  {
   "cell_type": "markdown",
   "metadata": {},
   "source": [
    "## Lasso and Ridge"
   ]
  },
  {
   "cell_type": "code",
   "execution_count": 9,
   "metadata": {
    "scrolled": true
   },
   "outputs": [],
   "source": [
    "from sklearn.metrics import mean_squared_error\n",
    "from sklearn.metrics import r2_score\n",
    "\n",
    "#X_df = X_dev.copy()\n",
    "#X_df = encoded_df.copy()\n",
    "\n",
    "train_valid_mask = ~dataset[\"quality\"].isna()\n",
    "# extract the feature names (for later use)\n",
    "#feature_names = X_df[train_valid_mask].columns\n",
    "\n",
    "y = dataset[\"quality\"].values\n",
    "\n",
    "\n",
    "def evaluate_model(X, y, model, model_name):\n",
    "    \n",
    "   \n",
    "    \n",
    "    X_train_valid = X#[train_valid_mask]#train_valid_mask\n",
    "    y_train_valid = y#[train_valid_mask]#train_valid_mask\n",
    "    \n",
    "    X_train, X_valid, y_train, y_valid = train_test_split(X_train_valid, y_train_valid, shuffle=True, random_state=42)\n",
    "    \n",
    "    model.fit(X_train, y_train)\n",
    "    y_hat = model.predict(X_valid)\n",
    "    \n",
    "    return mean_squared_error(y_valid, y_hat), r2_score(y_valid, y_hat)"
   ]
  },
  {
   "cell_type": "code",
   "execution_count": 10,
   "metadata": {},
   "outputs": [],
   "source": [
    "\n",
    "models = [\n",
    "        \n",
    "        Ridge(random_state=42),\n",
    "        Lasso(random_state= 42),\n",
    "        #MLPRegressor(random_state=42,activation='logistic',alpha=0.01,verbose=True,hidden_layer_sizes=(100,100),learning_rate='adaptive',solver='sgd',learning_rate_init=0.01)\n",
    "]\n",
    "\n",
    "\n",
    "names = [\n",
    "'ridge',\n",
    "'lasso',\n",
    "    #'mlp'\n",
    "    \n",
    "]"
   ]
  },
  {
   "cell_type": "markdown",
   "metadata": {},
   "source": [
    "### Evaluate Lasso, Ridge and MLPRegressor"
   ]
  },
  {
   "cell_type": "code",
   "execution_count": 11,
   "metadata": {},
   "outputs": [
    {
     "name": "stdout",
     "output_type": "stream",
     "text": [
      "TEST on X_dev: (120744, 72964) and y_dev: (120744,)\n",
      "[('ridge', 26.336291776861703, 0.815426750044667)]\n",
      "[('lasso', 142.68922990517825, -1.2269015071453282e-05)]\n"
     ]
    }
   ],
   "source": [
    "print(f\"TEST on X_dev: {X_dev.shape} and y_dev: {y.shape}\")\n",
    "for model, name in zip(models, names):\n",
    "    mse, r2 = evaluate_model(X_dev, y, model, name)\n",
    "    print(f\"[{name, mse, r2}]\")"
   ]
  },
  {
   "cell_type": "markdown",
   "metadata": {},
   "source": [
    "## Grid Search on Lasso"
   ]
  },
  {
   "cell_type": "code",
   "execution_count": 12,
   "metadata": {},
   "outputs": [],
   "source": [
    "\n",
    "from sklearn.model_selection import GridSearchCV\n",
    "param_grid = {\n",
    "        'alpha':[1],#,0.1,0.01,0.001,0.0001,0.005, 0.05],\n",
    "        \"fit_intercept\":[True],# False],\n",
    "        \"random_state\": [42], # always use the samet random seed\n",
    "    }\n",
    "\n",
    "gs = GridSearchCV(Ridge(), param_grid, scoring=\"r2\", n_jobs=4, cv=5)"
   ]
  },
  {
   "cell_type": "code",
   "execution_count": 13,
   "metadata": {},
   "outputs": [
    {
     "name": "stdout",
     "output_type": "stream",
     "text": [
      "0.8226237474012855\n"
     ]
    }
   ],
   "source": [
    "gs.fit(X_dev, y)\n",
    "print(gs.best_score_)"
   ]
  },
  {
   "cell_type": "code",
   "execution_count": 14,
   "metadata": {
    "scrolled": true
   },
   "outputs": [
    {
     "name": "stdout",
     "output_type": "stream",
     "text": [
      "{'alpha': 1, 'fit_intercept': True, 'random_state': 42}\n",
      "Ridge(alpha=1, random_state=42)\n"
     ]
    }
   ],
   "source": [
    "print(gs.best_params_)\n",
    "#print(gs.best_estimator_.feature_importances_)\n",
    "print(gs.best_estimator_)"
   ]
  },
  {
   "cell_type": "markdown",
   "metadata": {},
   "source": [
    "## Ridge Pipeline"
   ]
  },
  {
   "cell_type": "code",
   "execution_count": 26,
   "metadata": {},
   "outputs": [],
   "source": [
    "# Regression model that we want to configure:\n",
    "reg = make_pipeline(PolynomialFeatures(degree = 3), Ridge())\n",
    "\n",
    "param_grid = {'polynomialfeatures__degree':[3], \n",
    "              'ridge__alpha':[1]}\n",
    "gs = GridSearchCV(reg, param_grid, scoring='r2', cv=5)"
   ]
  },
  {
   "cell_type": "code",
   "execution_count": null,
   "metadata": {},
   "outputs": [],
   "source": [
    "reg.fit(X_dev, y)\n",
    "print(gs.best_score_)"
   ]
  },
  {
   "cell_type": "code",
   "execution_count": null,
   "metadata": {},
   "outputs": [],
   "source": [
    "print(gs.best_params_)\n",
    "#print(gs.best_estimator_.feature_importances_)\n",
    "print(gs.best_estimator_)"
   ]
  },
  {
   "cell_type": "markdown",
   "metadata": {},
   "source": [
    "## Predict"
   ]
  },
  {
   "cell_type": "code",
   "execution_count": 15,
   "metadata": {},
   "outputs": [
    {
     "data": {
      "text/plain": [
       "Index(['country', 'description', 'designation', 'province', 'region_1',\n",
       "       'region_2', 'variety', 'winery'],\n",
       "      dtype='object')"
      ]
     },
     "execution_count": 15,
     "metadata": {},
     "output_type": "execute_result"
    }
   ],
   "source": [
    "df = eval_df.copy().fillna('')\n",
    "\n",
    "df.description=df.description.str.lower()\n",
    "df.country=df.country.str.lower()\n",
    "df.designation=df.designation.str.lower()\n",
    "df.province=df.province.str.lower()\n",
    "df.region_1=df.region_1.str.lower()\n",
    "df.region_2=df.region_2.str.lower()\n",
    "df.variety=df.variety.str.lower()\n",
    "df.winery=df.winery.str.lower()\n",
    "X_test = df.copy()\n",
    "X_test.columns\n"
   ]
  },
  {
   "cell_type": "code",
   "execution_count": 16,
   "metadata": {},
   "outputs": [
    {
     "name": "stdout",
     "output_type": "stream",
     "text": [
      "Training shape: (120744, 44061),  Testing: (30186, 44061)\n"
     ]
    }
   ],
   "source": [
    "## encoded eval description\n",
    "encoded_eval = enc.transform(X_test.drop(columns= ['description'], axis =1))\n",
    "\n",
    "X_test_bin = encoded_eval.copy()\n",
    "print(f\"Training shape: {df_1.shape},  Testing: {X_test_bin.shape}\")"
   ]
  },
  {
   "cell_type": "code",
   "execution_count": 17,
   "metadata": {},
   "outputs": [
    {
     "name": "stdout",
     "output_type": "stream",
     "text": [
      "Training shape: (120744, 28903),  Testing: (30186, 28903)\n"
     ]
    }
   ],
   "source": [
    "## description handle\n",
    "wpm_test = var_vectorizer.transform(eval_df['description'])\n",
    "#X_test_svd = svd.transform(X_test_tfidf)\n",
    "X_test_svd = pd.DataFrame.sparse.from_spmatrix(wpm_test)\n",
    "print(f\"Training shape: {wpm.shape},  Testing: {wpm_test.shape}\")"
   ]
  },
  {
   "cell_type": "code",
   "execution_count": 18,
   "metadata": {},
   "outputs": [
    {
     "name": "stdout",
     "output_type": "stream",
     "text": [
      "Training shape: (120744, 72964),  Testing: (30186, 72964)\n"
     ]
    }
   ],
   "source": [
    "## MERGE\n",
    "\n",
    "X_test = sp.sparse.hstack((wpm_test, X_test_bin))\n",
    "#X_test = X_test_bin\n",
    "print(f\"Training shape: {X_dev.shape},  Testing: {X_test.shape}\")"
   ]
  },
  {
   "cell_type": "code",
   "execution_count": null,
   "metadata": {},
   "outputs": [],
   "source": []
  },
  {
   "cell_type": "code",
   "execution_count": 19,
   "metadata": {},
   "outputs": [],
   "source": [
    "y_pred = gs.predict(X_test)\n",
    "pd.DataFrame(y_pred, index=eval_df.index).to_csv(\"final_dip.csv\", index_label=\"Id\", header=[\"Predicted\"])"
   ]
  },
  {
   "cell_type": "code",
   "execution_count": null,
   "metadata": {},
   "outputs": [],
   "source": []
  }
 ],
 "metadata": {
  "kernelspec": {
   "display_name": "Python 3",
   "language": "python",
   "name": "python3"
  },
  "language_info": {
   "codemirror_mode": {
    "name": "ipython",
    "version": 3
   },
   "file_extension": ".py",
   "mimetype": "text/x-python",
   "name": "python",
   "nbconvert_exporter": "python",
   "pygments_lexer": "ipython3",
   "version": "3.7.9"
  }
 },
 "nbformat": 4,
 "nbformat_minor": 4
}
