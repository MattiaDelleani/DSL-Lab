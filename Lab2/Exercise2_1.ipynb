{
 "cells": [
  {
   "cell_type": "code",
   "execution_count": 1,
   "metadata": {},
   "outputs": [
    {
     "name": "stdout",
     "output_type": "stream",
     "text": [
      "7\n",
      "['Date', 'AverageTemperature', 'AverageTemperatureUncertainty', 'City', 'Country', 'Latitude', 'Longitude']\n"
     ]
    }
   ],
   "source": [
    "import csv\n",
    "import pandas as pd\n",
    "dataset= [[], [], [], [], [], [], []]\n",
    "col_names = []\n",
    "print(len(dataset))\n",
    "with open('dataset/GLT_filtered.csv') as f:\n",
    "    \n",
    "    reader = csv.reader(f)\n",
    "    col_names = next(reader)    #it's start from the beginning and iterate the input list, and after if I iterate with a\n",
    "                                # for-cicle it'll start not from index 0 but from 1, because the iterator is in position 1\n",
    "    for row in reader:\n",
    "        if len(row) == len(col_names):\n",
    "            for i in range(len(dataset)):\n",
    "                dataset[i].append(row[i]) \n",
    "    \n",
    "    print(col_names)\n"
   ]
  },
  {
   "cell_type": "code",
   "execution_count": 2,
   "metadata": {},
   "outputs": [
    {
     "data": {
      "text/plain": [
       "100"
      ]
     },
     "execution_count": 2,
     "metadata": {},
     "output_type": "execute_result"
    }
   ],
   "source": [
    "cities = set(dataset[3]) #upload cities\n",
    "len(cities)\n"
   ]
  },
  {
   "cell_type": "markdown",
   "metadata": {},
   "source": [
    "## 2.1 -  How many of them are nominal, how many continuous or discrete?\n"
   ]
  },
  {
   "cell_type": "markdown",
   "metadata": {},
   "source": [
    "In my opinion the set composed by AvgTemp and AvgTempUncertainty are **continious** value and are _ratio_ attributes. Date, Latitude, Longitude are **discrete** with _interval_ attributes. City and Country are **nominal** attributes."
   ]
  },
  {
   "cell_type": "code",
   "execution_count": 3,
   "metadata": {},
   "outputs": [
    {
     "ename": "KeyboardInterrupt",
     "evalue": "",
     "output_type": "error",
     "traceback": [
      "\u001b[1;31m---------------------------------------------------------------------------\u001b[0m",
      "\u001b[1;31mKeyboardInterrupt\u001b[0m                         Traceback (most recent call last)",
      "\u001b[1;32m<ipython-input-3-4d0ea7a89e17>\u001b[0m in \u001b[0;36m<module>\u001b[1;34m\u001b[0m\n\u001b[0;32m     26\u001b[0m                             \u001b[0mcomplete_dataset\u001b[0m\u001b[1;33m[\u001b[0m\u001b[1;36m1\u001b[0m\u001b[1;33m]\u001b[0m\u001b[1;33m[\u001b[0m\u001b[0mi\u001b[0m\u001b[1;33m]\u001b[0m \u001b[1;33m=\u001b[0m \u001b[0mresult\u001b[0m\u001b[1;33m\u001b[0m\u001b[1;33m\u001b[0m\u001b[0m\n\u001b[0;32m     27\u001b[0m                             \u001b[1;32mbreak\u001b[0m\u001b[1;33m\u001b[0m\u001b[1;33m\u001b[0m\u001b[0m\n\u001b[1;32m---> 28\u001b[1;33m                     \u001b[1;32melif\u001b[0m \u001b[0mi\u001b[0m\u001b[1;33m==\u001b[0m\u001b[1;36m0\u001b[0m\u001b[1;33m:\u001b[0m\u001b[1;33m\u001b[0m\u001b[1;33m\u001b[0m\u001b[0m\n\u001b[0m\u001b[0;32m     29\u001b[0m                         \u001b[0msuccessor\u001b[0m \u001b[1;33m=\u001b[0m \u001b[0msuccessor\u001b[0m \u001b[1;33m=\u001b[0m \u001b[0mdataset\u001b[0m\u001b[1;33m[\u001b[0m\u001b[1;36m1\u001b[0m\u001b[1;33m]\u001b[0m\u001b[1;33m[\u001b[0m\u001b[0mi\u001b[0m\u001b[1;33m+\u001b[0m\u001b[0mcont_succ\u001b[0m\u001b[1;33m]\u001b[0m\u001b[1;33m\u001b[0m\u001b[1;33m\u001b[0m\u001b[0m\n\u001b[0;32m     30\u001b[0m                         \u001b[1;32mif\u001b[0m \u001b[0msuccessor\u001b[0m\u001b[1;33m==\u001b[0m\u001b[1;34m''\u001b[0m\u001b[1;33m:\u001b[0m\u001b[1;33m\u001b[0m\u001b[1;33m\u001b[0m\u001b[0m\n",
      "\u001b[1;31mKeyboardInterrupt\u001b[0m: "
     ]
    }
   ],
   "source": [
    "import copy\n",
    "\n",
    "complete_dataset = copy.deepcopy(dataset)\n",
    "list_cities = list(cities)\n",
    "list_cities.sort()\n",
    "temps = []\n",
    "for j, city in enumerate(list_cities):\n",
    "    city_temp = [temp for i, temp in enumerate(dataset[1]) if city ==dataset[3][i]]\n",
    "    temps.append(city_temp)\n",
    "    for i, temp in enumerate(dataset[1]):\n",
    "        if city == dataset[3][i]:\n",
    "            if temp =='':\n",
    "                cont_prev = 1\n",
    "                cont_succ = 1\n",
    "                while True:\n",
    "                    \n",
    "                    if i >= cont_prev and cont_succ<= len(dataset[1][i]):\n",
    "                        previous = dataset[1][i-cont_prev]\n",
    "                        successor = dataset[1][i+cont_succ]\n",
    "                        if previuos == '':\n",
    "                            cont_prev+=1\n",
    "                        elif successor == '':\n",
    "                            cont_succ+=1\n",
    "                        else:\n",
    "                            result = (previous+successor)/2\n",
    "                            complete_dataset[1][i] = result\n",
    "                            break\n",
    "                    elif i==0:\n",
    "                        successor = successor = dataset[1][i+cont_succ]\n",
    "                        if successor=='':\n",
    "                            cont_succ+=1\n",
    "                        else:\n",
    "                            result = (successor)/2\n",
    "                            complete_dataset[1][i] = result\n",
    "                            break\n",
    "                            \n",
    "                    elif i== (len(city_temp)-1):\n",
    "                        previous = dataset[1][i-cont_succ]\n",
    "                        if successor=='':\n",
    "                            cont_succ+=1\n",
    "                        else:\n",
    "                            result = (previous)/2\n",
    "                            complete_dataset[1][i] = result\n",
    "                            break\n",
    "        \n",
    "print(f\"City: {list_cities[0]}\\nNumber of temps: {(len(temps[0]))}\")"
   ]
  },
  {
   "cell_type": "code",
   "execution_count": null,
   "metadata": {},
   "outputs": [],
   "source": [
    "\n",
    "def fill_empty_temps(dataset)"
   ]
  },
  {
   "cell_type": "code",
   "execution_count": null,
   "metadata": {},
   "outputs": [],
   "source": []
  },
  {
   "cell_type": "code",
   "execution_count": null,
   "metadata": {},
   "outputs": [],
   "source": []
  },
  {
   "cell_type": "code",
   "execution_count": null,
   "metadata": {},
   "outputs": [],
   "source": []
  }
 ],
 "metadata": {
  "kernelspec": {
   "display_name": "Python 3",
   "language": "python",
   "name": "python3"
  },
  "language_info": {
   "codemirror_mode": {
    "name": "ipython",
    "version": 3
   },
   "file_extension": ".py",
   "mimetype": "text/x-python",
   "name": "python",
   "nbconvert_exporter": "python",
   "pygments_lexer": "ipython3",
   "version": "3.7.9"
  }
 },
 "nbformat": 4,
 "nbformat_minor": 4
}
