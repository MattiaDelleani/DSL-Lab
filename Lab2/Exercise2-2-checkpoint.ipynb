{
 "cells": [
  {
   "cell_type": "markdown",
   "metadata": {},
   "source": [
    "## Loading dataset"
   ]
  },
  {
   "cell_type": "code",
   "execution_count": 42,
   "metadata": {},
   "outputs": [],
   "source": [
    "from collections import Counter\n",
    "import csv\n",
    "with open('dataset/aclimdb_reviews_train.txt', encoding = 'utf8') as f:\n",
    "    reader = csv.reader(f) #for counting it'better to convert in csv reader\n",
    "    reviews, labels = [], []\n",
    "    next(reader)\n",
    "    for line in reader:\n",
    "        reviews.append(line[0])\n",
    "        labels.append(line[1])\n",
    "    "
   ]
  },
  {
   "cell_type": "code",
   "execution_count": 43,
   "metadata": {},
   "outputs": [
    {
     "name": "stdout",
     "output_type": "stream",
     "text": [
      "Total number of comments: 25000\n",
      "Number of 1's and 0's: [('1', 12500), ('0', 12500)]\n"
     ]
    }
   ],
   "source": [
    "print(f\"Total number of comments: {len(labels)}\")\n",
    "print(\"Number of 1's and 0's:\", [(k, v) for k, v in Counter(labels).items()])"
   ]
  },
  {
   "cell_type": "code",
   "execution_count": 63,
   "metadata": {},
   "outputs": [
    {
     "name": "stdout",
     "output_type": "stream",
     "text": [
      "Working with one of the best Shakespeare sources, this film manages to be creditable to it's source, whilst still appealing to a wider audience.<br /><br />Branagh steals the film from under Fishburne's nose, and there's a talented cast on good form. \n",
      "\n",
      " Bizarre horror movie filled with famous faces but stolen by Cristina Raines (later of TV's \"Flamingo Road\") as a pretty but somewhat unstable model with a gummy smile who is slated to pay for her attempted suicides by guarding the Gateway to Hell! The scenes with Raines modeling are very well captured, the mood music is perfect, Deborah Raffin is charming as Cristina's pal, but when Raines moves into a creepy Brooklyn Heights brownstone (inhabited by a blind priest on the top floor), things really start cooking. The neighbors, including a fantastically wicked Burgess Meredith and kinky couple Sylvia Miles & Beverly D'Angelo, are a diabolical lot, and Eli Wallach is great fun as a wily police detective. The movie is nearly a cross-pollination of \"Rosemary's Baby\" and \"The Exorcist\"--but what a combination! Based on the best-seller by Jeffrey Konvitz, \"The Sentinel\" is entertainingly spooky, full of shocks brought off well by director Michael Winner, who mounts a thoughtfully downbeat ending with skill. ***1/2 from ****\n"
     ]
    }
   ],
   "source": [
    "print(reviews[1], \"\\n\\n\", reviews[2])"
   ]
  },
  {
   "cell_type": "markdown",
   "metadata": {},
   "source": [
    "### Tokenizer Function"
   ]
  },
  {
   "cell_type": "markdown",
   "metadata": {},
   "source": [
    "\"\"\"Compute the tokens for each document.\n",
    "Input: a list of strings. Each item is a document to tokenize.\n",
    "Output: a list of lists. Each item is a list containing the tokens of the\n",
    "relative document.\n",
    "\"\"\""
   ]
  },
  {
   "cell_type": "code",
   "execution_count": 65,
   "metadata": {},
   "outputs": [],
   "source": [
    "import string\n",
    "\n",
    "def tokenize(docs):\n",
    "    tokens = []\n",
    "    for doc in docs:\n",
    "        for punct in string.punctuation:\n",
    "            doc = doc.replace(punct, \" \")\n",
    "            split_doc = [ token.lower() for token in doc.split(\" \") if token ]\n",
    "        tokens.append(split_doc)\n",
    "    return tokens\n",
    "\n",
    "\n",
    "tokenized_reviews = tokenize(reviews)\n"
   ]
  },
  {
   "cell_type": "markdown",
   "metadata": {},
   "source": [
    "                           Apply the tokenize fucntion to the dataset"
   ]
  },
  {
   "cell_type": "code",
   "execution_count": 91,
   "metadata": {},
   "outputs": [
    {
     "name": "stdout",
     "output_type": "stream",
     "text": [
      "['bizarre', 'horror', 'movie', 'filled', 'with', 'famous', 'faces', 'but', 'stolen', 'by', 'cristina', 'raines', 'later', 'of', 'tv', 's', 'flamingo', 'road', 'as', 'a', 'pretty', 'but', 'somewhat', 'unstable', 'model', 'with', 'a', 'gummy', 'smile', 'who', 'is', 'slated', 'to', 'pay', 'for', 'her', 'attempted', 'suicides', 'by', 'guarding', 'the', 'gateway', 'to', 'hell', 'the', 'scenes', 'with', 'raines', 'modeling', 'are', 'very', 'well', 'captured', 'the', 'mood', 'music', 'is', 'perfect', 'deborah', 'raffin', 'is', 'charming', 'as', 'cristina', 's', 'pal', 'but', 'when', 'raines', 'moves', 'into', 'a', 'creepy', 'brooklyn', 'heights', 'brownstone', 'inhabited', 'by', 'a', 'blind', 'priest', 'on', 'the', 'top', 'floor', 'things', 'really', 'start', 'cooking', 'the', 'neighbors', 'including', 'a', 'fantastically', 'wicked', 'burgess', 'meredith', 'and', 'kinky', 'couple', 'sylvia', 'miles', 'beverly', 'd', 'angelo', 'are', 'a', 'diabolical', 'lot', 'and', 'eli', 'wallach', 'is', 'great', 'fun', 'as', 'a', 'wily', 'police', 'detective', 'the', 'movie', 'is', 'nearly', 'a', 'cross', 'pollination', 'of', 'rosemary', 's', 'baby', 'and', 'the', 'exorcist', 'but', 'what', 'a', 'combination', 'based', 'on', 'the', 'best', 'seller', 'by', 'jeffrey', 'konvitz', 'the', 'sentinel', 'is', 'entertainingly', 'spooky', 'full', 'of', 'shocks', 'brought', 'off', 'well', 'by', 'director', 'michael', 'winner', 'who', 'mounts', 'a', 'thoughtfully', 'downbeat', 'ending', 'with', 'skill', '1', '2', 'from']\n"
     ]
    }
   ],
   "source": [
    "print((tokenized_reviews[2]))"
   ]
  },
  {
   "cell_type": "code",
   "execution_count": 121,
   "metadata": {},
   "outputs": [
    {
     "name": "stdout",
     "output_type": "stream",
     "text": [
      "10\n"
     ]
    }
   ],
   "source": [
    "example = (Counter(tokenized_reviews[2]))\n",
    "tf = {}\n",
    "for word in example:\n",
    "    tf[word] = Counter(example)[word]\n",
    "    \n",
    "print(tf['a'])\n",
    "#print(example)\n",
    "#print(\"TYPE: \",type(example))\n",
    "\n"
   ]
  },
  {
   "cell_type": "code",
   "execution_count": 118,
   "metadata": {},
   "outputs": [],
   "source": [
    "def count_words_counterMode(reviews):\n",
    "    \n",
    "    TF = []\n",
    "    \n",
    "    for r in reviews:\n",
    "        TF.append(Counter(r))\n",
    "    return TF\n",
    "\n",
    "def count_words(reviews):\n",
    "    \n",
    "    TF = []\n",
    "    for r in reviews:\n",
    "        tf = {}\n",
    "        #for word in Counter(r): #   tf[word] = Counter(r)[word] --->with counter\n",
    "        for word in r:\n",
    "            tf[word] = tf.get(word, 0)+1\n",
    "                                                    \n",
    "        TF.append(tf)\n",
    "    return TF"
   ]
  },
  {
   "cell_type": "code",
   "execution_count": 113,
   "metadata": {},
   "outputs": [
    {
     "name": "stdout",
     "output_type": "stream",
     "text": [
      "[{'for': 1, 'a': 1, 'movie': 1, 'that': 1, 'gets': 1, 'no': 1, 'respect': 1, 'there': 1, 'sure': 1, 'are': 1, 'lot': 1, 'of': 1, 'memorable': 1, 'quotes': 1, 'listed': 1, 'this': 1, 'gem': 1, 'imagine': 1, 'where': 1, 'joe': 1, 'piscopo': 1, 'is': 1, 'actually': 1, 'funny': 1, 'maureen': 1, 'stapleton': 1, 'scene': 1, 'stealer': 1, 'the': 1, 'moroni': 1, 'character': 1, 'an': 1, 'absolute': 1, 'scream': 1, 'watch': 1, 'alan': 1, 'skipper': 1, 'hale': 1, 'jr': 1, 'as': 1, 'police': 1, 'sgt': 1}, {'working': 1, 'with': 1, 'one': 1, 'of': 1, 'the': 1, 'best': 1, 'shakespeare': 1, 'sources': 1, 'this': 1, 'film': 1, 'manages': 1, 'to': 1, 'be': 1, 'creditable': 1, 'it': 1, 's': 1, 'source': 1, 'whilst': 1, 'still': 1, 'appealing': 1, 'a': 1, 'wider': 1, 'audience': 1, 'br': 1, 'branagh': 1, 'steals': 1, 'from': 1, 'under': 1, 'fishburne': 1, 'nose': 1, 'and': 1, 'there': 1, 'talented': 1, 'cast': 1, 'on': 1, 'good': 1, 'form': 1}, {'bizarre': 1, 'horror': 1, 'movie': 1, 'filled': 1, 'with': 1, 'famous': 1, 'faces': 1, 'but': 1, 'stolen': 1, 'by': 1, 'cristina': 1, 'raines': 1, 'later': 1, 'of': 1, 'tv': 1, 's': 1, 'flamingo': 1, 'road': 1, 'as': 1, 'a': 1, 'pretty': 1, 'somewhat': 1, 'unstable': 1, 'model': 1, 'gummy': 1, 'smile': 1, 'who': 1, 'is': 1, 'slated': 1, 'to': 1, 'pay': 1, 'for': 1, 'her': 1, 'attempted': 1, 'suicides': 1, 'guarding': 1, 'the': 1, 'gateway': 1, 'hell': 1, 'scenes': 1, 'modeling': 1, 'are': 1, 'very': 1, 'well': 1, 'captured': 1, 'mood': 1, 'music': 1, 'perfect': 1, 'deborah': 1, 'raffin': 1, 'charming': 1, 'pal': 1, 'when': 1, 'moves': 1, 'into': 1, 'creepy': 1, 'brooklyn': 1, 'heights': 1, 'brownstone': 1, 'inhabited': 1, 'blind': 1, 'priest': 1, 'on': 1, 'top': 1, 'floor': 1, 'things': 1, 'really': 1, 'start': 1, 'cooking': 1, 'neighbors': 1, 'including': 1, 'fantastically': 1, 'wicked': 1, 'burgess': 1, 'meredith': 1, 'and': 1, 'kinky': 1, 'couple': 1, 'sylvia': 1, 'miles': 1, 'beverly': 1, 'd': 1, 'angelo': 1, 'diabolical': 1, 'lot': 1, 'eli': 1, 'wallach': 1, 'great': 1, 'fun': 1, 'wily': 1, 'police': 1, 'detective': 1, 'nearly': 1, 'cross': 1, 'pollination': 1, 'rosemary': 1, 'baby': 1, 'exorcist': 1, 'what': 1, 'combination': 1, 'based': 1, 'best': 1, 'seller': 1, 'jeffrey': 1, 'konvitz': 1, 'sentinel': 1, 'entertainingly': 1, 'spooky': 1, 'full': 1, 'shocks': 1, 'brought': 1, 'off': 1, 'director': 1, 'michael': 1, 'winner': 1, 'mounts': 1, 'thoughtfully': 1, 'downbeat': 1, 'ending': 1, 'skill': 1, '1': 1, '2': 1, 'from': 1}]\n"
     ]
    }
   ],
   "source": [
    "TF = count_words(tokenized_reviews[0:3])\n",
    "print(TF)"
   ]
  },
  {
   "cell_type": "code",
   "execution_count": null,
   "metadata": {},
   "outputs": [],
   "source": []
  }
 ],
 "metadata": {
  "kernelspec": {
   "display_name": "Python 3",
   "language": "python",
   "name": "python3"
  },
  "language_info": {
   "codemirror_mode": {
    "name": "ipython",
    "version": 3
   },
   "file_extension": ".py",
   "mimetype": "text/x-python",
   "name": "python",
   "nbconvert_exporter": "python",
   "pygments_lexer": "ipython3",
   "version": "3.7.9"
  }
 },
 "nbformat": 4,
 "nbformat_minor": 4
}
