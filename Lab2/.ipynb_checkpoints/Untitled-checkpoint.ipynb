{
 "cells": [
  {
   "cell_type": "code",
   "execution_count": 1,
   "metadata": {},
   "outputs": [
    {
     "name": "stdout",
     "output_type": "stream",
     "text": [
      "7\n",
      "['Date', 'AverageTemperature', 'AverageTemperatureUncertainty', 'City', 'Country', 'Latitude', 'Longitude']\n"
     ]
    }
   ],
   "source": [
    "import csv\n",
    "import pandas as pd\n",
    "dataset= [[], [], [], [], [], [], []]\n",
    "col_names = []\n",
    "print(len(dataset))\n",
    "with open('dataset/GLT_filtered.csv') as f:\n",
    "    \n",
    "    reader = csv.reader(f)\n",
    "    col_names = next(reader)    #it's start from the beginning and iterate the input list, and after if I iterate with a\n",
    "                                # for-cicle it'll start not from index 0 but from 1, because the iterator is in position 1\n",
    "    for row in reader:\n",
    "        if len(row) == len(col_names):\n",
    "            for i in range(len(dataset)):\n",
    "                dataset[i].append(row[i]) \n",
    "    \n",
    "    print(col_names)\n"
   ]
  },
  {
   "cell_type": "code",
   "execution_count": 2,
   "metadata": {},
   "outputs": [
    {
     "data": {
      "text/plain": [
       "100"
      ]
     },
     "execution_count": 2,
     "metadata": {},
     "output_type": "execute_result"
    }
   ],
   "source": [
    "cities = set(dataset[3]) #upload cities\n",
    "len(cities)\n"
   ]
  },
  {
   "cell_type": "markdown",
   "metadata": {},
   "source": [
    "## 2.1 -  How many of them are nominal, how many continuous or discrete?\n"
   ]
  },
  {
   "cell_type": "markdown",
   "metadata": {},
   "source": [
    "In my opinion the set composed by AvgTemp and AvgTempUncertainty are **continious** value and are _ratio_ attributes. Date, Latitude, Longitude are **discrete** with _interval_ attributes. City and Country are **nominal** attributes."
   ]
  },
  {
   "cell_type": "code",
   "execution_count": 17,
   "metadata": {},
   "outputs": [
    {
     "name": "stdout",
     "output_type": "stream",
     "text": [
      "<class 'str'>\n",
      "City: Abidjan\n",
      " AVG_temps:\n",
      "1968\n"
     ]
    }
   ],
   "source": [
    "list_cities = list(cities)\n",
    "list_cities.sort()\n",
    "print(type(list_cities[0]))\n",
    "temps = []\n",
    "for j, city in enumerate(list_cities):\n",
    "    city_temp = [temp for i, temp in enumerate(dataset[1]) if city ==dataset[3][i]]\n",
    "    temps.append(city_temp)\n",
    "print(f\"City: {list_cities[0]}\\n AVG_temps:\\n{(len(temps[0]))}\")"
   ]
  },
  {
   "cell_type": "code",
   "execution_count": null,
   "metadata": {},
   "outputs": [],
   "source": []
  },
  {
   "cell_type": "code",
   "execution_count": null,
   "metadata": {},
   "outputs": [],
   "source": []
  },
  {
   "cell_type": "code",
   "execution_count": null,
   "metadata": {},
   "outputs": [],
   "source": []
  },
  {
   "cell_type": "code",
   "execution_count": null,
   "metadata": {},
   "outputs": [],
   "source": []
  }
 ],
 "metadata": {
  "kernelspec": {
   "display_name": "Python 3",
   "language": "python",
   "name": "python3"
  },
  "language_info": {
   "codemirror_mode": {
    "name": "ipython",
    "version": 3
   },
   "file_extension": ".py",
   "mimetype": "text/x-python",
   "name": "python",
   "nbconvert_exporter": "python",
   "pygments_lexer": "ipython3",
   "version": "3.7.9"
  }
 },
 "nbformat": 4,
 "nbformat_minor": 4
}
