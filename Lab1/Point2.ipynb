{
 "cells": [
  {
   "cell_type": "markdown",
   "metadata": {},
   "source": [
    "# Exercise 2\n",
    "## Loading JSON"
   ]
  },
  {
   "cell_type": "code",
   "execution_count": 16,
   "metadata": {},
   "outputs": [
    {
     "name": "stdout",
     "output_type": "stream",
     "text": [
      "{'network': ['company', 'href', 'id', 'location', 'name', 'source', 'stations']}\n"
     ]
    }
   ],
   "source": [
    "import json\n",
    "import sys\n",
    "with open(\"dataset/to-bike\") as f:\n",
    "    obj = json.load(f)\n",
    "    dictionary = {}\n",
    "    params = []\n",
    "    stazioni = []\n",
    "    obj_keys = obj.keys()\n",
    "    for key in obj_keys:\n",
    "        dictionary[key] = []\n",
    "        for param in obj[key]:\n",
    "            dictionary[key].append(param)\n",
    "            \n",
    "    print(dictionary)"
   ]
  },
  {
   "cell_type": "code",
   "execution_count": 6,
   "metadata": {},
   "outputs": [
    {
     "name": "stdout",
     "output_type": "stream",
     "text": [
      "Active: 113\n",
      "Empty slots: 621\n",
      "Free bikes: 169\n"
     ]
    }
   ],
   "source": [
    "active_station = 0\n",
    "free_docks = 0\n",
    "free_bikes = 0\n",
    "for station in obj['network']['stations']:\n",
    "    if station['extra']['status'] == 'online':\n",
    "        active_station += 1\n",
    "        free_docks += station['empty_slots']\n",
    "        free_bikes += station['free_bikes']\n",
    "        \n",
    "print(f\"Active: {active_station}\\nEmpty slots: {free_docks}\\nFree bikes: {free_bikes}\")"
   ]
  },
  {
   "cell_type": "code",
   "execution_count": 7,
   "metadata": {},
   "outputs": [],
   "source": [
    "\n",
    "from math import cos, acos, sin\n",
    "\n",
    "def distance_coords(lat1, lng1, lat2, lng2):\n",
    "    \"\"\"Compute the distance among two points.\"\"\"\n",
    "    deg2rad = lambda x: x * 3.141592 / 180\n",
    "    lat1, lng1, lat2, lng2 = map(deg2rad, [ lat1, lng1, lat2, lng2 ])\n",
    "    R = 6378100 # Radius of the Earth, in meters\n",
    "    return R * acos(sin(lat1) * sin(lat2) + cos(lat1) * cos(lat2) * cos(lng1 - lng2))\n"
   ]
  },
  {
   "cell_type": "code",
   "execution_count": 8,
   "metadata": {},
   "outputs": [],
   "source": [
    "point = [45.074512, 7.694419]\n"
   ]
  },
  {
   "cell_type": "code",
   "execution_count": 22,
   "metadata": {},
   "outputs": [
    {
     "name": "stdout",
     "output_type": "stream",
     "text": [
      "Distance: 164.17482149485286\n",
      "Station: {'empty_slots': 11, 'extra': {'number': 100, 'reviews': 583, 'score': 4.3, 'status': 'online', 'uid': '350'}, 'free_bikes': 0, 'id': '1916e772eb3e6c88b37a0f584da1e333', 'latitude': 45.073583, 'longitude': 7.692797, 'name': 'Regina Margherita 3', 'timestamp': '2020-10-09T11:42:51.875000Z'}\n"
     ]
    }
   ],
   "source": [
    "closest_station = None\n",
    "distance = sys.maxsize\n",
    "for station in obj['network']['stations']:\n",
    "    if station['extra']['status'] == 'online':\n",
    "        temp_dist = distance_coords(station['latitude'], station['longitude'], point[0], point[1])\n",
    "        if  temp_dist < distance:\n",
    "            distance = temp_dist\n",
    "            closest_station = station\n",
    "\n",
    "print(f\"Distance: {distance}\\nStation: {closest_station}\")"
   ]
  },
  {
   "cell_type": "code",
   "execution_count": 20,
   "metadata": {},
   "outputs": [
    {
     "data": {
      "text/plain": [
       "9223372036854775807"
      ]
     },
     "execution_count": 20,
     "metadata": {},
     "output_type": "execute_result"
    }
   ],
   "source": [
    "distance"
   ]
  },
  {
   "cell_type": "code",
   "execution_count": null,
   "metadata": {},
   "outputs": [],
   "source": []
  }
 ],
 "metadata": {
  "kernelspec": {
   "display_name": "Python 3",
   "language": "python",
   "name": "python3"
  },
  "language_info": {
   "codemirror_mode": {
    "name": "ipython",
    "version": 3
   },
   "file_extension": ".py",
   "mimetype": "text/x-python",
   "name": "python",
   "nbconvert_exporter": "python",
   "pygments_lexer": "ipython3",
   "version": "3.7.9"
  }
 },
 "nbformat": 4,
 "nbformat_minor": 4
}
