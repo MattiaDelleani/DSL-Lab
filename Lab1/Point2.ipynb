{
 "cells": [
  {
   "cell_type": "markdown",
   "metadata": {},
   "source": [
    "# Exercise 2\n",
    "## Loading JSON"
   ]
  },
  {
   "cell_type": "code",
   "execution_count": 1,
   "metadata": {},
   "outputs": [
    {
     "name": "stdout",
     "output_type": "stream",
     "text": [
      "{'network': ['company', 'href', 'id', 'location', 'name', 'source', 'stations']}\n"
     ]
    }
   ],
   "source": [
    "import json\n",
    "import sys\n",
    "with open(\"dataset/to-bike\") as f:\n",
    "    obj = json.load(f)\n",
    "    dictionary = {}\n",
    "    params = []\n",
    "    stazioni = []\n",
    "    obj_keys = obj.keys()\n",
    "    for key in obj_keys:\n",
    "        dictionary[key] = []\n",
    "        for param in obj[key]:\n",
    "            dictionary[key].append(param)\n",
    "            \n",
    "    print(dictionary)"
   ]
  },
  {
   "cell_type": "code",
   "execution_count": 14,
   "metadata": {},
   "outputs": [
    {
     "name": "stdout",
     "output_type": "stream",
     "text": [
      "Active: 76\n",
      "Empty slots: 448\n",
      "Free bikes: 169\n"
     ]
    }
   ],
   "source": [
    "active_station = 0\n",
    "free_docks = 0\n",
    "free_bikes = 0\n",
    "for station in obj['network']['stations']:\n",
    "    if station['extra']['status'] == 'online':\n",
    "        active_station += 1\n",
    "        free_docks += station['empty_slots']\n",
    "        free_bikes += station['free_bikes']\n",
    "        \n",
    "print(f\"Active: {active_station}\\nEmpty slots: {free_docks}\\nFree bikes: {free_bikes}\")"
   ]
  },
  {
   "cell_type": "code",
   "execution_count": 3,
   "metadata": {},
   "outputs": [],
   "source": [
    "\n",
    "from math import cos, acos, sin\n",
    "\n",
    "def distance_coords(lat1, lng1, lat2, lng2):\n",
    "    \"\"\"Compute the distance among two points.\"\"\"\n",
    "    deg2rad = lambda x: x * 3.141592 / 180\n",
    "    lat1, lng1, lat2, lng2 = map(deg2rad, [ lat1, lng1, lat2, lng2 ])\n",
    "    R = 6378100 # Radius of the Earth, in meters\n",
    "    return R * acos(sin(lat1) * sin(lat2) + cos(lat1) * cos(lat2) * cos(lng1 - lng2))\n"
   ]
  },
  {
   "cell_type": "code",
   "execution_count": 4,
   "metadata": {},
   "outputs": [],
   "source": [
    "point = [45.074512, 7.694419]\n"
   ]
  },
  {
   "cell_type": "code",
   "execution_count": 15,
   "metadata": {},
   "outputs": [
    {
     "name": "stdout",
     "output_type": "stream",
     "text": [
      "Distance: 259.22962070190584\n",
      "Station: Regio Parco\n",
      "Free bikes: 3\n"
     ]
    }
   ],
   "source": [
    "\n",
    "distance = sys.maxsize\n",
    "for station in obj['network']['stations']:\n",
    "    if station['extra']['status'] == 'online' and station['free_bikes']>0:\n",
    "        temp_dist = distance_coords(station['latitude'], station['longitude'], point[0], point[1])\n",
    "        if  temp_dist < distance:\n",
    "            distance = temp_dist\n",
    "            closest_station = station\n",
    "\n",
    "print(f\"Distance: {distance}\\nStation: {closest_station['name']}\\nFree bikes: {closest_station['free_bikes']}\")"
   ]
  },
  {
   "cell_type": "code",
   "execution_count": 16,
   "metadata": {},
   "outputs": [
    {
     "data": {
      "text/plain": [
       "259.22962070190584"
      ]
     },
     "execution_count": 16,
     "metadata": {},
     "output_type": "execute_result"
    }
   ],
   "source": [
    "distance"
   ]
  },
  {
   "cell_type": "markdown",
   "metadata": {},
   "source": [
    "### Compact solution"
   ]
  },
  {
   "cell_type": "code",
   "execution_count": 17,
   "metadata": {},
   "outputs": [
    {
     "name": "stdout",
     "output_type": "stream",
     "text": [
      "Closest station: Regio Parco\n",
      "Distance: 259.22962070190584 meters\n",
      "Number of available bikes: 3\n"
     ]
    }
   ],
   "source": [
    "def distance_from_point_2(dataset, lat, lng):\n",
    "    v = [ (s, distance_coords(lat, lng, s[\"latitude\"], s[\"longitude\"])) for s in obj[\"network\"][\"stations\"] if s[\"free_bikes\"] > 0 ]\n",
    "    return min(v, key=lambda w: w[1])\n",
    "station, distance = distance_from_point_2(obj, 45.074512, 7.694419)\n",
    "print(\"Closest station:\", station[\"name\"])\n",
    "print(\"Distance:\", distance, \"meters\")\n",
    "print(\"Number of available bikes:\", station[\"free_bikes\"])"
   ]
  },
  {
   "cell_type": "code",
   "execution_count": null,
   "metadata": {},
   "outputs": [],
   "source": []
  },
  {
   "cell_type": "code",
   "execution_count": null,
   "metadata": {},
   "outputs": [],
   "source": []
  },
  {
   "cell_type": "code",
   "execution_count": null,
   "metadata": {},
   "outputs": [],
   "source": []
  }
 ],
 "metadata": {
  "kernelspec": {
   "display_name": "Python 3",
   "language": "python",
   "name": "python3"
  },
  "language_info": {
   "codemirror_mode": {
    "name": "ipython",
    "version": 3
   },
   "file_extension": ".py",
   "mimetype": "text/x-python",
   "name": "python",
   "nbconvert_exporter": "python",
   "pygments_lexer": "ipython3",
   "version": "3.7.9"
  }
 },
 "nbformat": 4,
 "nbformat_minor": 4
}
