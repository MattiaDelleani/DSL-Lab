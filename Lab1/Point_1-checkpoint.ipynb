{
 "cells": [
  {
   "cell_type": "markdown",
   "metadata": {},
   "source": [
    "# Loading CSV"
   ]
  },
  {
   "cell_type": "code",
   "execution_count": 104,
   "metadata": {},
   "outputs": [
    {
     "name": "stdout",
     "output_type": "stream",
     "text": [
      "Rows empty:1\n"
     ]
    }
   ],
   "source": [
    "import csv\n",
    "with open(\"dataset/iris.data\") as f:\n",
    "    iris_dataset = []\n",
    "    count_empty_row = 0\n",
    "    for row in csv.reader(f):\n",
    "        if row == []:\n",
    "            count_empty_row+=1\n",
    "            \n",
    "        else:\n",
    "            list_row = [float(row[0]), float(row[1]), float(row[2]), float(row[3]), str(row[4])]\n",
    "            iris_dataset.append(list_row)\n",
    "                                    \n",
    "\n",
    "    print(f'Rows empty:{count_empty_row}')\n",
    "#iris_dataset\n"
   ]
  },
  {
   "cell_type": "markdown",
   "metadata": {},
   "source": [
    "### Function"
   ]
  },
  {
   "cell_type": "code",
   "execution_count": 140,
   "metadata": {},
   "outputs": [],
   "source": [
    "from math import sqrt\n",
    "\n",
    "def mean(input_list):\n",
    "   \n",
    "    return (sum(input_list)/len(iris_dataset))\n",
    "\n",
    "def st_dev(input_list, mean):\n",
    "    \n",
    "    return sqrt((1/len(input_list))*sum((x-mean)**2 for x in input_list))\n",
    "        "
   ]
  },
  {
   "cell_type": "markdown",
   "metadata": {},
   "source": [
    "### 2- Caclulate mean, stdev"
   ]
  },
  {
   "cell_type": "code",
   "execution_count": 128,
   "metadata": {},
   "outputs": [
    {
     "name": "stdout",
     "output_type": "stream",
     "text": [
      "876.5000000000002\n",
      "458.10000000000014\n",
      "563.8000000000004\n",
      "179.8000000000001\n",
      "\n",
      "mean_sepal_lenght = 5.843333333333335, mean_sepal_width = 3.0540000000000007\n",
      "mean_petal_lenght = 3.7586666666666693 , mean_petal_width = 1.1986666666666672\n"
     ]
    }
   ],
   "source": [
    "sepal_lenght, sepal_width, petal_lenght, petal_width, list_types = [], [], [], [], []\n",
    "\n",
    "for row in iris_dataset:\n",
    "    sepal_lenght.append(row[0])\n",
    "    sepal_width.append(row[1])\n",
    "    petal_lenght.append(row[2])\n",
    "    petal_width.append(row[3])\n",
    "    list_types.append(row[4])\n",
    "\n",
    "mean_sepal_lenght = mean(sepal_lenght)\n",
    "mean_sepal_width = mean(sepal_width)\n",
    "mean_petal_lenght = mean(petal_lenght)\n",
    "mean_petal_width = mean(petal_width)\n",
    "\n",
    "print(f\"\\nmean_sepal_lenght = {mean_sepal_lenght}, mean_sepal_width = {mean_sepal_width}\\n\"\n",
    "      f\"mean_petal_lenght = {mean_petal_lenght} , mean_petal_width = {mean_petal_width}\")\n"
   ]
  },
  {
   "cell_type": "code",
   "execution_count": 99,
   "metadata": {},
   "outputs": [
    {
     "name": "stdout",
     "output_type": "stream",
     "text": [
      "\n",
      "stdev_sepal_lenght = 0.8253012917851409, stdev_sepal_width = 0.4321465800705436\n",
      "stdev_petal_lenght = 1.7585291834055203 , stdev_petal_width = 0.760612618588172\n"
     ]
    }
   ],
   "source": [
    "stdev_sepal_lenght = st_dev(sepal_lenght, mean_sepal_lenght)\n",
    "stdev_sepal_width = st_dev(sepal_width, mean_sepal_width)\n",
    "stdev_petal_width = st_dev(petal_width, mean_petal_width)\n",
    "stdev_petal_lenght = st_dev(petal_lenght, mean_petal_lenght)\n",
    "\n",
    "print(f\"\\nstdev_sepal_lenght = {stdev_sepal_lenght}, stdev_sepal_width = {stdev_sepal_width}\\n\"\n",
    "      f\"stdev_petal_lenght = {stdev_petal_lenght} , stdev_petal_width = {stdev_petal_width}\")"
   ]
  },
  {
   "cell_type": "markdown",
   "metadata": {},
   "source": [
    "### 2- Caclulate mean, stdev for each type"
   ]
  },
  {
   "cell_type": "code",
   "execution_count": 142,
   "metadata": {},
   "outputs": [],
   "source": [
    "dictionary = {'Iris-setosa':[[],[],[],[],0],'Iris-versicolor':[[],[],[],[],0], 'Iris-virginica':[[],[],[],[],0]}\n",
    "for row in iris_dataset:\n",
    "    if row[4] == 'Iris-setosa':\n",
    "        for i in range(0,4):\n",
    "            dictionary['Iris-setosa'][i].append(row[i])\n",
    "        dictionary['Iris-setosa'][4]+=1\n",
    "        \n",
    "        \n",
    "    elif row[4] == 'Iris-versicolor':\n",
    "        for i in range(0,4):\n",
    "            dictionary['Iris-versicolor'][i].append(row[i])\n",
    "            \n",
    "        dictionary['Iris-versicolor'][4]+=1\n",
    "                   \n",
    "    elif row[4] == 'Iris-virginica':\n",
    "        for i in range(0,4):\n",
    "            dictionary['Iris-virginica'][i].append(row[i])\n",
    "        dictionary['Iris-virginica'][4]+=1\n",
    "    \n",
    "        \n",
    "#print(dictionary)"
   ]
  },
  {
   "cell_type": "code",
   "execution_count": 144,
   "metadata": {},
   "outputs": [],
   "source": [
    "#dictionary['Iris-setosa'][0] + dictionary['Iris-versicolor'][0] +dictionary['Iris-virginica'][0]\n"
   ]
  },
  {
   "cell_type": "code",
   "execution_count": 145,
   "metadata": {},
   "outputs": [
    {
     "name": "stdout",
     "output_type": "stream",
     "text": [
      "{'Iris-setosa': [1.6686666666666665, 1.1393333333333335, 0.48800000000000004, 0.0813333333333333], 'Iris-versicolor': [1.9786666666666668, 0.9233333333333336, 1.4199999999999997, 0.442], 'Iris-virginica': [2.1959999999999993, 0.9913333333333333, 1.8506666666666665, 0.6753333333333332]}\n"
     ]
    }
   ],
   "source": [
    "mean_dict = {'Iris-setosa': [mean(dictionary['Iris-setosa'][0]), mean(dictionary['Iris-setosa'][1]), mean(dictionary['Iris-setosa'][2]),mean(dictionary['Iris-setosa'][3])],\n",
    "         'Iris-versicolor': [mean(dictionary['Iris-versicolor'][0]), mean(dictionary['Iris-versicolor'][1]),mean(dictionary['Iris-versicolor'][2]), mean(dictionary['Iris-versicolor'][3])],\n",
    "         'Iris-virginica': [mean(dictionary['Iris-virginica'][0]), mean(dictionary['Iris-virginica'][1]), mean(dictionary['Iris-virginica'][2]), mean(dictionary['Iris-virginica'][3])]}\n",
    "\n",
    "print(mean_dict)"
   ]
  },
  {
   "cell_type": "code",
   "execution_count": 150,
   "metadata": {},
   "outputs": [
    {
     "data": {
      "text/plain": [
       "{'Iris-setosa': [3.355526453148265,\n",
       "  2.3096748207870688,\n",
       "  0.9909994954590037,\n",
       "  0.19422781583605486],\n",
       " 'Iris-versicolor': [3.9901868516538306,\n",
       "  1.8726125541012955,\n",
       "  2.877846417027844,\n",
       "  0.9054170309862746],\n",
       " 'Iris-virginica': [4.436881787922686,\n",
       "  2.008205943401003,\n",
       "  3.741438820085723,\n",
       "  1.377760662976137]}"
      ]
     },
     "execution_count": 150,
     "metadata": {},
     "output_type": "execute_result"
    }
   ],
   "source": [
    "stdev_dict =  {'Iris-setosa': [0,0,0,0],\n",
    "         'Iris-versicolor': [0,0,0,0],\n",
    "         'Iris-virginica': [0,0,0,0]}\n",
    "\n",
    "\n",
    "for key in stdev_dict:\n",
    "    for i in range(0,4):\n",
    "        stdev_dict[key][i] = st_dev(dictionary[key][i], mean_dict[key][i])\n",
    "\n",
    "stdev_dict"
   ]
  },
  {
   "cell_type": "code",
   "execution_count": null,
   "metadata": {},
   "outputs": [],
   "source": []
  }
 ],
 "metadata": {
  "kernelspec": {
   "display_name": "Python 3",
   "language": "python",
   "name": "python3"
  },
  "language_info": {
   "codemirror_mode": {
    "name": "ipython",
    "version": 3
   },
   "file_extension": ".py",
   "mimetype": "text/x-python",
   "name": "python",
   "nbconvert_exporter": "python",
   "pygments_lexer": "ipython3",
   "version": "3.7.9"
  }
 },
 "nbformat": 4,
 "nbformat_minor": 4
}
