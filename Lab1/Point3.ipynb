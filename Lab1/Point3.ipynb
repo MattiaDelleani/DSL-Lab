{
 "cells": [
  {
   "cell_type": "code",
   "execution_count": 1,
   "metadata": {},
   "outputs": [],
   "source": [
    "import csv\n",
    "\n",
    "dataset = []\n",
    "labels = []\n",
    "\n",
    "with open(\"dataset/mnist_test.csv\", 'r') as f:\n",
    "    \n",
    "        for row in csv.reader(f):\n",
    "            dataset.append(list(map(int, row)))\n",
    "            labels.append(int(row.pop(0)))\n",
    "            \n",
    "        "
   ]
  },
  {
   "cell_type": "code",
   "execution_count": 2,
   "metadata": {},
   "outputs": [],
   "source": [
    "def get_char(pixel):\n",
    "    ranges = {\n",
    "        (0,64): \" \",\n",
    "        (64,128): \".\",\n",
    "        (128,192): \"*\",\n",
    "        (192,256): \"#\"\n",
    "    }\n",
    "    \n",
    "    for (a,b), ch in ranges.items():\n",
    "        if a <= pixel < b:\n",
    "            return ch\n",
    "    "
   ]
  },
  {
   "cell_type": "code",
   "execution_count": 3,
   "metadata": {},
   "outputs": [],
   "source": [
    "def print_picture(dataset, index):\n",
    "    chars = list(map(get_char, dataset[index-1]))\n",
    "    print(f\"For digit: {dataset[index-1][0]}\")\n",
    "    del(chars[0]) #have to remove the first char because it's the digit\n",
    "    #print(len(chars))  --> 784\n",
    " \n",
    "    for i in range(28):\n",
    "        for j in range(28):\n",
    "            print(chars[i*28+j], end = \"\")\n",
    "        print()"
   ]
  },
  {
   "cell_type": "code",
   "execution_count": 4,
   "metadata": {},
   "outputs": [
    {
     "name": "stdout",
     "output_type": "stream",
     "text": [
      "For digit: 7\n",
      "                            \n",
      "                            \n",
      "                            \n",
      "                            \n",
      "                            \n",
      "                            \n",
      "                            \n",
      "      .***                  \n",
      "      ##############*       \n",
      "      ....*##########*      \n",
      "            . ...  ##.      \n",
      "                  .##       \n",
      "                  ##.       \n",
      "                 *##        \n",
      "                 ##         \n",
      "                *#*         \n",
      "                ##          \n",
      "               .#*          \n",
      "              .##           \n",
      "              ##*           \n",
      "             ###            \n",
      "             ##.            \n",
      "            ##.             \n",
      "           *##              \n",
      "           ###              \n",
      "          .###              \n",
      "          .##               \n",
      "                            \n"
     ]
    }
   ],
   "source": [
    "print_picture(dataset, 1)"
   ]
  },
  {
   "cell_type": "code",
   "execution_count": 5,
   "metadata": {},
   "outputs": [],
   "source": [
    "from math import sqrt\n",
    "positions = [26, 30, 32, 35]\n",
    "\n",
    "def euclidean_dist(v1, v2):\n",
    "    del v1[0]\n",
    "    del v2[0]\n",
    "    result = 0\n",
    "    for a,b in zip(v1,v2):\n",
    "        result += (a-b)**2\n",
    "        \n",
    "    #result = [lambda x,y: (x-y)**2, for x,y in zip(v1,v2)] <---HOw with lambda functions?\n",
    "    #print(result)\n",
    "    return sqrt(result)\n",
    "        "
   ]
  },
  {
   "cell_type": "code",
   "execution_count": 6,
   "metadata": {},
   "outputs": [
    {
     "name": "stdout",
     "output_type": "stream",
     "text": [
      "Distance between 26th and 30: 3539.223219860539\n",
      "Distance between 30th and 32: 1896.4424589214407\n",
      "Distance between 32th and 35: 2505.1666611225687\n"
     ]
    }
   ],
   "source": [
    "for i,element in enumerate(positions[:-1]):\n",
    "    print(f\"Distance between {element}th and {positions[i+1]}th: {euclidean_dist(dataset[element-1], dataset[(positions[i+1])-1])}\")"
   ]
  },
  {
   "cell_type": "code",
   "execution_count": 7,
   "metadata": {},
   "outputs": [],
   "source": [
    "def count_black_pixels(dataset, labels, digit):\n",
    "    \n",
    "    X = [0]*784\n",
    "    \n",
    "    for label, values in zip(labels, dataset):\n",
    "        \n",
    "        if label != digit:\n",
    "            continue\n",
    "        for i,v in enumerate(values):\n",
    "            if v >=128:\n",
    "                X[i]+=1\n",
    "    \n",
    "    return X\n",
    "\n"
   ]
  },
  {
   "cell_type": "code",
   "execution_count": 32,
   "metadata": {},
   "outputs": [
    {
     "name": "stdout",
     "output_type": "stream",
     "text": [
      "<enumerate object at 0x0000025685521D68>\n"
     ]
    },
    {
     "data": {
      "text/plain": [
       "784"
      ]
     },
     "execution_count": 32,
     "metadata": {},
     "output_type": "execute_result"
    }
   ],
   "source": [
    "#those are 2 list of 784 elements in which each element represents the number of the black \n",
    "#pixel in same position over the digits\n",
    "Z = count_black_pixels(dataset, labels, 0)\n",
    "W = count_black_pixels(dataset, labels, 1)\n",
    "\n",
    "diff = [abs(z-w) for z,w in zip(Z,W)]\n",
    "print(enumerate(diff))\n",
    "def argmax(values):\n",
    "    \n",
    "    return max(enumerate(values),  key= lambda x: x[1])[0]\n",
    "\n",
    "argmax(diff)\n",
    "len(diff)"
   ]
  },
  {
   "cell_type": "code",
   "execution_count": null,
   "metadata": {},
   "outputs": [],
   "source": []
  },
  {
   "cell_type": "code",
   "execution_count": null,
   "metadata": {},
   "outputs": [],
   "source": []
  }
 ],
 "metadata": {
  "kernelspec": {
   "display_name": "Python 3",
   "language": "python",
   "name": "python3"
  },
  "language_info": {
   "codemirror_mode": {
    "name": "ipython",
    "version": 3
   },
   "file_extension": ".py",
   "mimetype": "text/x-python",
   "name": "python",
   "nbconvert_exporter": "python",
   "pygments_lexer": "ipython3",
   "version": "3.7.9"
  }
 },
 "nbformat": 4,
 "nbformat_minor": 4
}
